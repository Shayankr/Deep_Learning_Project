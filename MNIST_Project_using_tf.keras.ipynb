{
 "cells": [
  {
   "cell_type": "markdown",
   "metadata": {},
   "source": [
    "## MNIST DataSet"
   ]
  },
  {
   "cell_type": "code",
   "execution_count": 1,
   "metadata": {},
   "outputs": [],
   "source": [
    "import tensorflow as tf"
   ]
  },
  {
   "cell_type": "code",
   "execution_count": 2,
   "metadata": {},
   "outputs": [],
   "source": [
    "import numpy as np\n",
    "import pandas as pd\n",
    "import seaborn as sns\n",
    "import matplotlib.pyplot as plt\n",
    "%matplotlib inline"
   ]
  },
  {
   "cell_type": "code",
   "execution_count": 3,
   "metadata": {},
   "outputs": [],
   "source": [
    "import cv2\n",
    "from PIL import Image"
   ]
  },
  {
   "cell_type": "code",
   "execution_count": 4,
   "metadata": {},
   "outputs": [],
   "source": [
    "import matplotlib.image as mpg"
   ]
  },
  {
   "cell_type": "code",
   "execution_count": 5,
   "metadata": {},
   "outputs": [],
   "source": [
    "# load dataset\n",
    "from tensorflow.keras.datasets import mnist"
   ]
  },
  {
   "cell_type": "code",
   "execution_count": 6,
   "metadata": {},
   "outputs": [],
   "source": [
    "(X_train, y_train),(X_test, y_test)=mnist.load_data()"
   ]
  },
  {
   "cell_type": "code",
   "execution_count": 7,
   "metadata": {},
   "outputs": [
    {
     "name": "stdout",
     "output_type": "stream",
     "text": [
      "shape of X_train is: (60000, 28, 28)\n",
      "Shape of X_test is: (10000, 28, 28)\n",
      "shape of y_train is: (60000,)\n",
      "Shape of y_test is: (10000,)\n"
     ]
    }
   ],
   "source": [
    "# check shape\n",
    "print(f\"shape of X_train is: {X_train.shape}\")\n",
    "print(f\"Shape of X_test is: {X_test.shape}\")\n",
    "print(f\"shape of y_train is: {y_train.shape}\")\n",
    "print(f\"Shape of y_test is: {y_test.shape}\")"
   ]
  },
  {
   "cell_type": "code",
   "execution_count": 8,
   "metadata": {},
   "outputs": [],
   "source": [
    "np.set_printoptions(edgeitems=30, linewidth=10000)"
   ]
  },
  {
   "cell_type": "code",
   "execution_count": 9,
   "metadata": {},
   "outputs": [
    {
     "data": {
      "text/plain": [
       "array([[  0,   0,   0,   0,   0,   0,   0,   0,   0,   0,   0,   0,   0,   0,   0,   0,   0,   0,   0,   0,   0,   0,   0,   0,   0,   0,   0,   0],\n",
       "       [  0,   0,   0,   0,   0,   0,   0,   0,   0,   0,   0,   0,   0,   0,   0,   0,   0,   0,   0,   0,   0,   0,   0,   0,   0,   0,   0,   0],\n",
       "       [  0,   0,   0,   0,   0,   0,   0,   0,   0,   0,   0,   0,   0,   0,   0,   0,   0,   0,   0,   0,   0,   0,   0,   0,   0,   0,   0,   0],\n",
       "       [  0,   0,   0,   0,   0,   0,   0,   0,   0,   0,   0,   0,   0,   0,   0,   0,   0,   0,   0,   0,   0,   0,   0,   0,   0,   0,   0,   0],\n",
       "       [  0,   0,   0,   0,   0,   0,   0,   0,   0,   0,   0,   0,   0,   0,   0,   0,   0,   0,   0,   0,   0,   0,   0,   0,   0,   0,   0,   0],\n",
       "       [  0,   0,   0,   0,   0,   0,   0,   0,   0,   0,   0,   0,   3,  18,  18,  18, 126, 136, 175,  26, 166, 255, 247, 127,   0,   0,   0,   0],\n",
       "       [  0,   0,   0,   0,   0,   0,   0,   0,  30,  36,  94, 154, 170, 253, 253, 253, 253, 253, 225, 172, 253, 242, 195,  64,   0,   0,   0,   0],\n",
       "       [  0,   0,   0,   0,   0,   0,   0,  49, 238, 253, 253, 253, 253, 253, 253, 253, 253, 251,  93,  82,  82,  56,  39,   0,   0,   0,   0,   0],\n",
       "       [  0,   0,   0,   0,   0,   0,   0,  18, 219, 253, 253, 253, 253, 253, 198, 182, 247, 241,   0,   0,   0,   0,   0,   0,   0,   0,   0,   0],\n",
       "       [  0,   0,   0,   0,   0,   0,   0,   0,  80, 156, 107, 253, 253, 205,  11,   0,  43, 154,   0,   0,   0,   0,   0,   0,   0,   0,   0,   0],\n",
       "       [  0,   0,   0,   0,   0,   0,   0,   0,   0,  14,   1, 154, 253,  90,   0,   0,   0,   0,   0,   0,   0,   0,   0,   0,   0,   0,   0,   0],\n",
       "       [  0,   0,   0,   0,   0,   0,   0,   0,   0,   0,   0, 139, 253, 190,   2,   0,   0,   0,   0,   0,   0,   0,   0,   0,   0,   0,   0,   0],\n",
       "       [  0,   0,   0,   0,   0,   0,   0,   0,   0,   0,   0,  11, 190, 253,  70,   0,   0,   0,   0,   0,   0,   0,   0,   0,   0,   0,   0,   0],\n",
       "       [  0,   0,   0,   0,   0,   0,   0,   0,   0,   0,   0,   0,  35, 241, 225, 160, 108,   1,   0,   0,   0,   0,   0,   0,   0,   0,   0,   0],\n",
       "       [  0,   0,   0,   0,   0,   0,   0,   0,   0,   0,   0,   0,   0,  81, 240, 253, 253, 119,  25,   0,   0,   0,   0,   0,   0,   0,   0,   0],\n",
       "       [  0,   0,   0,   0,   0,   0,   0,   0,   0,   0,   0,   0,   0,   0,  45, 186, 253, 253, 150,  27,   0,   0,   0,   0,   0,   0,   0,   0],\n",
       "       [  0,   0,   0,   0,   0,   0,   0,   0,   0,   0,   0,   0,   0,   0,   0,  16,  93, 252, 253, 187,   0,   0,   0,   0,   0,   0,   0,   0],\n",
       "       [  0,   0,   0,   0,   0,   0,   0,   0,   0,   0,   0,   0,   0,   0,   0,   0,   0, 249, 253, 249,  64,   0,   0,   0,   0,   0,   0,   0],\n",
       "       [  0,   0,   0,   0,   0,   0,   0,   0,   0,   0,   0,   0,   0,   0,  46, 130, 183, 253, 253, 207,   2,   0,   0,   0,   0,   0,   0,   0],\n",
       "       [  0,   0,   0,   0,   0,   0,   0,   0,   0,   0,   0,   0,  39, 148, 229, 253, 253, 253, 250, 182,   0,   0,   0,   0,   0,   0,   0,   0],\n",
       "       [  0,   0,   0,   0,   0,   0,   0,   0,   0,   0,  24, 114, 221, 253, 253, 253, 253, 201,  78,   0,   0,   0,   0,   0,   0,   0,   0,   0],\n",
       "       [  0,   0,   0,   0,   0,   0,   0,   0,  23,  66, 213, 253, 253, 253, 253, 198,  81,   2,   0,   0,   0,   0,   0,   0,   0,   0,   0,   0],\n",
       "       [  0,   0,   0,   0,   0,   0,  18, 171, 219, 253, 253, 253, 253, 195,  80,   9,   0,   0,   0,   0,   0,   0,   0,   0,   0,   0,   0,   0],\n",
       "       [  0,   0,   0,   0,  55, 172, 226, 253, 253, 253, 253, 244, 133,  11,   0,   0,   0,   0,   0,   0,   0,   0,   0,   0,   0,   0,   0,   0],\n",
       "       [  0,   0,   0,   0, 136, 253, 253, 253, 212, 135, 132,  16,   0,   0,   0,   0,   0,   0,   0,   0,   0,   0,   0,   0,   0,   0,   0,   0],\n",
       "       [  0,   0,   0,   0,   0,   0,   0,   0,   0,   0,   0,   0,   0,   0,   0,   0,   0,   0,   0,   0,   0,   0,   0,   0,   0,   0,   0,   0],\n",
       "       [  0,   0,   0,   0,   0,   0,   0,   0,   0,   0,   0,   0,   0,   0,   0,   0,   0,   0,   0,   0,   0,   0,   0,   0,   0,   0,   0,   0],\n",
       "       [  0,   0,   0,   0,   0,   0,   0,   0,   0,   0,   0,   0,   0,   0,   0,   0,   0,   0,   0,   0,   0,   0,   0,   0,   0,   0,   0,   0]], dtype=uint8)"
      ]
     },
     "execution_count": 9,
     "metadata": {},
     "output_type": "execute_result"
    }
   ],
   "source": [
    "X_train[0]"
   ]
  },
  {
   "cell_type": "code",
   "execution_count": 10,
   "metadata": {},
   "outputs": [
    {
     "data": {
      "text/plain": [
       "<matplotlib.image.AxesImage at 0x23a5a4c0ca0>"
      ]
     },
     "execution_count": 10,
     "metadata": {},
     "output_type": "execute_result"
    },
    {
     "data": {
      "image/png": "[encoded data removed]",
      "text/plain": [
       "<Figure size 432x288 with 1 Axes>"
      ]
     },
     "metadata": {
      "needs_background": "light"
     },
     "output_type": "display_data"
    }
   ],
   "source": [
    "plt.imshow(X_train[0])"
   ]
  },
  {
   "cell_type": "code",
   "execution_count": 11,
   "metadata": {},
   "outputs": [
    {
     "data": {
      "text/plain": [
       "<matplotlib.image.AxesImage at 0x23a5a569e80>"
      ]
     },
     "execution_count": 11,
     "metadata": {},
     "output_type": "execute_result"
    },
    {
     "data": {
      "image/png": "[encoded data removed]",
      "text/plain": [
       "<Figure size 432x288 with 1 Axes>"
      ]
     },
     "metadata": {
      "needs_background": "light"
     },
     "output_type": "display_data"
    }
   ],
   "source": [
    "plt.imshow(X_train[0], cmap=\"gray\")"
   ]
  },
  {
   "cell_type": "code",
   "execution_count": 12,
   "metadata": {
    "scrolled": true
   },
   "outputs": [
    {
     "name": "stdout",
     "output_type": "stream",
     "text": [
      "[[  0   0   0   0   0   0   0   0   0   0   0   0   0   0   0   0   0   0   0   0   0   0   0   0   0   0   0   0]\n",
      " [  0   0   0   0   0   0   0   0   0   0   0   0   0   0   0   0   0   0   0   0   0   0   0   0   0   0   0   0]\n",
      " [  0   0   0   0   0   0   0   0   0   0   0   0   0   0   0   0   0   0   0   0   0   0   0   0   0   0   0   0]\n",
      " [  0   0   0   0   0   0   0   0   0   0   0   0   0   0   0   0   0   0   0   0   0   0   0   0   0   0   0   0]\n",
      " [  0   0   0   0   0   0   0   0   0   0   0   0   0   0   0   0   0   0   0   0   0   0   0   0   0   0   0   0]\n",
      " [  0   0   0   0   0   0   0   0   0   0   0   0   3  18  18  18 126 136 175  26 166 255 247 127   0   0   0   0]\n",
      " [  0   0   0   0   0   0   0   0  30  36  94 154 170 253 253 253 253 253 225 172 253 242 195  64   0   0   0   0]\n",
      " [  0   0   0   0   0   0   0  49 238 253 253 253 253 253 253 253 253 251  93  82  82  56  39   0   0   0   0   0]\n",
      " [  0   0   0   0   0   0   0  18 219 253 253 253 253 253 198 182 247 241   0   0   0   0   0   0   0   0   0   0]\n",
      " [  0   0   0   0   0   0   0   0  80 156 107 253 253 205  11   0  43 154   0   0   0   0   0   0   0   0   0   0]\n",
      " [  0   0   0   0   0   0   0   0   0  14   1 154 253  90   0   0   0   0   0   0   0   0   0   0   0   0   0   0]\n",
      " [  0   0   0   0   0   0   0   0   0   0   0 139 253 190   2   0   0   0   0   0   0   0   0   0   0   0   0   0]\n",
      " [  0   0   0   0   0   0   0   0   0   0   0  11 190 253  70   0   0   0   0   0   0   0   0   0   0   0   0   0]\n",
      " [  0   0   0   0   0   0   0   0   0   0   0   0  35 241 225 160 108   1   0   0   0   0   0   0   0   0   0   0]\n",
      " [  0   0   0   0   0   0   0   0   0   0   0   0   0  81 240 253 253 119  25   0   0   0   0   0   0   0   0   0]\n",
      " [  0   0   0   0   0   0   0   0   0   0   0   0   0   0  45 186 253 253 150  27   0   0   0   0   0   0   0   0]\n",
      " [  0   0   0   0   0   0   0   0   0   0   0   0   0   0   0  16  93 252 253 187   0   0   0   0   0   0   0   0]\n",
      " [  0   0   0   0   0   0   0   0   0   0   0   0   0   0   0   0   0 249 253 249  64   0   0   0   0   0   0   0]\n",
      " [  0   0   0   0   0   0   0   0   0   0   0   0   0   0  46 130 183 253 253 207   2   0   0   0   0   0   0   0]\n",
      " [  0   0   0   0   0   0   0   0   0   0   0   0  39 148 229 253 253 253 250 182   0   0   0   0   0   0   0   0]\n",
      " [  0   0   0   0   0   0   0   0   0   0  24 114 221 253 253 253 253 201  78   0   0   0   0   0   0   0   0   0]\n",
      " [  0   0   0   0   0   0   0   0  23  66 213 253 253 253 253 198  81   2   0   0   0   0   0   0   0   0   0   0]\n",
      " [  0   0   0   0   0   0  18 171 219 253 253 253 253 195  80   9   0   0   0   0   0   0   0   0   0   0   0   0]\n",
      " [  0   0   0   0  55 172 226 253 253 253 253 244 133  11   0   0   0   0   0   0   0   0   0   0   0   0   0   0]\n",
      " [  0   0   0   0 136 253 253 253 212 135 132  16   0   0   0   0   0   0   0   0   0   0   0   0   0   0   0   0]\n",
      " [  0   0   0   0   0   0   0   0   0   0   0   0   0   0   0   0   0   0   0   0   0   0   0   0   0   0   0   0]\n",
      " [  0   0   0   0   0   0   0   0   0   0   0   0   0   0   0   0   0   0   0   0   0   0   0   0   0   0   0   0]\n",
      " [  0   0   0   0   0   0   0   0   0   0   0   0   0   0   0   0   0   0   0   0   0   0   0   0   0   0   0   0]]\n"
     ]
    }
   ],
   "source": [
    "print(X_train[0])"
   ]
  },
  {
   "cell_type": "code",
   "execution_count": 13,
   "metadata": {},
   "outputs": [],
   "source": [
    "cv2.imshow(\"X_train[0]\", X_train[0])    #cv2.imshow('Example - Show image in window',img)\n",
    "cv2.waitKey(0)       ## waits until a key is pressed\n",
    "cv2.destroyAllWindows()         # destroys the window showing image\n"
   ]
  },
  {
   "cell_type": "code",
   "execution_count": 14,
   "metadata": {},
   "outputs": [
    {
     "data": {
      "text/plain": [
       "(28, 28)"
      ]
     },
     "execution_count": 14,
     "metadata": {},
     "output_type": "execute_result"
    }
   ],
   "source": [
    "X_train[0].shape"
   ]
  },
  {
   "cell_type": "code",
   "execution_count": 15,
   "metadata": {},
   "outputs": [
    {
     "data": {
      "text/plain": [
       "(60000, 28, 28)"
      ]
     },
     "execution_count": 15,
     "metadata": {},
     "output_type": "execute_result"
    }
   ],
   "source": [
    "X_train.shape  # 60K images of size 28x28"
   ]
  },
  {
   "cell_type": "code",
   "execution_count": 16,
   "metadata": {},
   "outputs": [
    {
     "data": {
      "text/plain": [
       "array([5, 0, 4, 1, 9, 2, 1, 3, 1, 4, 3, 5, 3, 6, 1, 7, 2, 8, 6, 9, 4, 0, 9, 1, 1, 2, 4, 3, 2, 7, ..., 2, 2, 0, 9, 2, 4, 6, 7, 3, 1, 3, 6, 6, 2, 1, 2, 6, 0, 7, 8, 9, 2, 9, 5, 1, 8, 3, 5, 6, 8], dtype=uint8)"
      ]
     },
     "execution_count": 16,
     "metadata": {},
     "output_type": "execute_result"
    }
   ],
   "source": [
    "y_train"
   ]
  },
  {
   "cell_type": "code",
   "execution_count": 17,
   "metadata": {},
   "outputs": [
    {
     "data": {
      "text/plain": [
       "(60000,)"
      ]
     },
     "execution_count": 17,
     "metadata": {},
     "output_type": "execute_result"
    }
   ],
   "source": [
    "y_train.shape"
   ]
  },
  {
   "cell_type": "markdown",
   "metadata": {},
   "source": [
    "## Apply Neural-Net to train a model using tf.keras"
   ]
  },
  {
   "cell_type": "code",
   "execution_count": 18,
   "metadata": {},
   "outputs": [],
   "source": [
    "from tensorflow.keras.models import Sequential"
   ]
  },
  {
   "cell_type": "code",
   "execution_count": 19,
   "metadata": {},
   "outputs": [],
   "source": [
    "from tensorflow.keras.layers import Flatten, Dense"
   ]
  },
  {
   "cell_type": "code",
   "execution_count": 20,
   "metadata": {},
   "outputs": [],
   "source": [
    "from tensorflow.keras.activations import relu, softmax"
   ]
  },
  {
   "cell_type": "markdown",
   "metadata": {},
   "source": [
    "###### Make the Sequential Model"
   ]
  },
  {
   "cell_type": "code",
   "execution_count": 21,
   "metadata": {},
   "outputs": [],
   "source": [
    "model = Sequential()\n",
    "model.add(Flatten(input_shape=X_train[0].shape)) # model.add(Flatten(input_size=784))\n",
    "#model.add(Dense(512, activation= relu))\n",
    "model.add(Dense(128, activation= relu))\n",
    "model.add(Dense(10, activation=softmax))"
   ]
  },
  {
   "cell_type": "code",
   "execution_count": 22,
   "metadata": {},
   "outputs": [
    {
     "name": "stdout",
     "output_type": "stream",
     "text": [
      "Model: \"sequential\"\n",
      "_________________________________________________________________\n",
      " Layer (type)                Output Shape              Param #   \n",
      "=================================================================\n",
      " flatten (Flatten)           (None, 784)               0         \n",
      "                                                                 \n",
      " dense (Dense)               (None, 128)               100480    \n",
      "                                                                 \n",
      " dense_1 (Dense)             (None, 10)                1290      \n",
      "                                                                 \n",
      "=================================================================\n",
      "Total params: 101,770\n",
      "Trainable params: 101,770\n",
      "Non-trainable params: 0\n",
      "_________________________________________________________________\n"
     ]
    }
   ],
   "source": [
    "model.summary()"
   ]
  },
  {
   "cell_type": "markdown",
   "metadata": {},
   "source": [
    "###### define type of back-propagation optimization algorithm using model.compiler"
   ]
  },
  {
   "cell_type": "markdown",
   "metadata": {},
   "source": [
    "###### RuntimeError: You must compile your model before training/testing. Use `model.compile(optimizer, loss)`."
   ]
  },
  {
   "cell_type": "code",
   "execution_count": 23,
   "metadata": {},
   "outputs": [],
   "source": [
    "from tensorflow.keras.optimizers import SGD"
   ]
  },
  {
   "cell_type": "code",
   "execution_count": 24,
   "metadata": {},
   "outputs": [],
   "source": [
    "from tensorflow.keras.losses import categorical_crossentropy"
   ]
  },
  {
   "cell_type": "code",
   "execution_count": 25,
   "metadata": {},
   "outputs": [],
   "source": [
    "model.compile(optimizer=SGD(), loss=categorical_crossentropy, metrics=[\"acc\"])"
   ]
  },
  {
   "cell_type": "markdown",
   "metadata": {},
   "source": [
    "###### ValueError: Shapes (None, 1) and (None, 10) are incompatible"
   ]
  },
  {
   "cell_type": "code",
   "execution_count": 26,
   "metadata": {},
   "outputs": [],
   "source": [
    "from tensorflow.keras.utils import to_categorical"
   ]
  },
  {
   "cell_type": "code",
   "execution_count": 27,
   "metadata": {},
   "outputs": [],
   "source": [
    "# One-hot encoding\n",
    "\n",
    "y_train = to_categorical(y_train)"
   ]
  },
  {
   "cell_type": "code",
   "execution_count": 28,
   "metadata": {},
   "outputs": [
    {
     "data": {
      "text/plain": [
       "array([[0., 0., 0., 0., 0., 1., 0., 0., 0., 0.],\n",
       "       [1., 0., 0., 0., 0., 0., 0., 0., 0., 0.],\n",
       "       [0., 0., 0., 0., 1., 0., 0., 0., 0., 0.],\n",
       "       [0., 1., 0., 0., 0., 0., 0., 0., 0., 0.],\n",
       "       [0., 0., 0., 0., 0., 0., 0., 0., 0., 1.]], dtype=float32)"
      ]
     },
     "execution_count": 28,
     "metadata": {},
     "output_type": "execute_result"
    }
   ],
   "source": [
    "y_train[:5]"
   ]
  },
  {
   "cell_type": "markdown",
   "metadata": {},
   "source": [
    "###### ValueError: Creating variables on a non-first call to a function decorated with tf.function.\n"
   ]
  },
  {
   "cell_type": "code",
   "execution_count": null,
   "metadata": {},
   "outputs": [],
   "source": []
  },
  {
   "cell_type": "markdown",
   "metadata": {},
   "source": [
    "###### Fit dataset into model"
   ]
  },
  {
   "cell_type": "code",
   "execution_count": 29,
   "metadata": {},
   "outputs": [
    {
     "name": "stdout",
     "output_type": "stream",
     "text": [
      "Epoch 1/100\n",
      "938/938 [==============================] - 3s 3ms/step - loss: 37.9033 - acc: 0.3035\n",
      "Epoch 2/100\n",
      "938/938 [==============================] - 3s 3ms/step - loss: 1.5147 - acc: 0.4656\n",
      "Epoch 3/100\n",
      "938/938 [==============================] - 3s 3ms/step - loss: 1.2290 - acc: 0.6043\n",
      "Epoch 4/100\n",
      "938/938 [==============================] - 3s 3ms/step - loss: 1.1114 - acc: 0.6301\n",
      "Epoch 5/100\n",
      "938/938 [==============================] - 3s 3ms/step - loss: 1.1332 - acc: 0.6186\n",
      "Epoch 6/100\n",
      "938/938 [==============================] - 3s 3ms/step - loss: 1.2224 - acc: 0.5897\n",
      "Epoch 7/100\n",
      "938/938 [==============================] - 3s 3ms/step - loss: 1.1800 - acc: 0.5994\n",
      "Epoch 8/100\n",
      "938/938 [==============================] - 3s 3ms/step - loss: 1.1661 - acc: 0.6012\n",
      "Epoch 9/100\n",
      "938/938 [==============================] - 3s 3ms/step - loss: 1.1676 - acc: 0.6037\n",
      "Epoch 10/100\n",
      "938/938 [==============================] - 3s 3ms/step - loss: 1.1564 - acc: 0.6071\n",
      "Epoch 11/100\n",
      "938/938 [==============================] - 3s 3ms/step - loss: 1.1365 - acc: 0.6147\n",
      "Epoch 12/100\n",
      "938/938 [==============================] - 3s 3ms/step - loss: 1.1471 - acc: 0.6030\n",
      "Epoch 13/100\n",
      "938/938 [==============================] - 3s 3ms/step - loss: 1.1196 - acc: 0.6185\n",
      "Epoch 14/100\n",
      "938/938 [==============================] - 3s 3ms/step - loss: 1.1662 - acc: 0.6023\n",
      "Epoch 15/100\n",
      "938/938 [==============================] - 3s 3ms/step - loss: 1.0796 - acc: 0.6568\n",
      "Epoch 16/100\n",
      "938/938 [==============================] - 3s 3ms/step - loss: 1.0312 - acc: 0.6791\n",
      "Epoch 17/100\n",
      "938/938 [==============================] - 3s 3ms/step - loss: 0.9425 - acc: 0.7085\n",
      "Epoch 18/100\n",
      "938/938 [==============================] - 3s 3ms/step - loss: 0.8795 - acc: 0.7517\n",
      "Epoch 19/100\n",
      "938/938 [==============================] - 3s 3ms/step - loss: 1.3021 - acc: 0.6084\n",
      "Epoch 20/100\n",
      "938/938 [==============================] - 3s 3ms/step - loss: 1.1447 - acc: 0.6293\n",
      "Epoch 21/100\n",
      "938/938 [==============================] - 3s 3ms/step - loss: 1.0886 - acc: 0.6464\n",
      "Epoch 22/100\n",
      "938/938 [==============================] - 3s 3ms/step - loss: 1.0642 - acc: 0.6412\n",
      "Epoch 23/100\n",
      "938/938 [==============================] - 3s 3ms/step - loss: 1.0270 - acc: 0.6690\n",
      "Epoch 24/100\n",
      "938/938 [==============================] - 3s 3ms/step - loss: 1.0597 - acc: 0.6520\n",
      "Epoch 25/100\n",
      "938/938 [==============================] - 3s 3ms/step - loss: 1.0767 - acc: 0.6543\n",
      "Epoch 26/100\n",
      "938/938 [==============================] - 3s 3ms/step - loss: 1.1590 - acc: 0.6164\n",
      "Epoch 27/100\n",
      "938/938 [==============================] - 3s 3ms/step - loss: 1.1814 - acc: 0.6009\n",
      "Epoch 28/100\n",
      "938/938 [==============================] - 3s 3ms/step - loss: 1.1146 - acc: 0.5999\n",
      "Epoch 29/100\n",
      "938/938 [==============================] - 3s 3ms/step - loss: 1.1377 - acc: 0.6007\n",
      "Epoch 30/100\n",
      "938/938 [==============================] - 3s 3ms/step - loss: 1.0512 - acc: 0.6332\n",
      "Epoch 31/100\n",
      "938/938 [==============================] - 3s 3ms/step - loss: 0.9906 - acc: 0.6471\n",
      "Epoch 32/100\n",
      "938/938 [==============================] - 3s 3ms/step - loss: 0.9716 - acc: 0.6593\n",
      "Epoch 33/100\n",
      "938/938 [==============================] - 3s 3ms/step - loss: 1.0565 - acc: 0.6303\n",
      "Epoch 34/100\n",
      "938/938 [==============================] - 3s 3ms/step - loss: 1.1562 - acc: 0.5810\n",
      "Epoch 35/100\n",
      "938/938 [==============================] - 3s 3ms/step - loss: 1.0784 - acc: 0.6118\n",
      "Epoch 36/100\n",
      "938/938 [==============================] - 3s 3ms/step - loss: 1.1754 - acc: 0.5925\n",
      "Epoch 37/100\n",
      "938/938 [==============================] - 3s 3ms/step - loss: 1.1289 - acc: 0.6136\n",
      "Epoch 38/100\n",
      "938/938 [==============================] - 3s 3ms/step - loss: 1.1234 - acc: 0.6040\n",
      "Epoch 39/100\n",
      "938/938 [==============================] - 3s 3ms/step - loss: 1.0744 - acc: 0.6294\n",
      "Epoch 40/100\n",
      "938/938 [==============================] - 3s 3ms/step - loss: 1.0511 - acc: 0.6303\n",
      "Epoch 41/100\n",
      "938/938 [==============================] - 3s 3ms/step - loss: 1.0526 - acc: 0.6310\n",
      "Epoch 42/100\n",
      "938/938 [==============================] - 3s 3ms/step - loss: 0.9609 - acc: 0.6502\n",
      "Epoch 43/100\n",
      "938/938 [==============================] - 3s 3ms/step - loss: 1.0919 - acc: 0.6176\n",
      "Epoch 44/100\n",
      "938/938 [==============================] - 2s 2ms/step - loss: 1.2229 - acc: 0.5666\n",
      "Epoch 45/100\n",
      "938/938 [==============================] - 2s 2ms/step - loss: 1.1506 - acc: 0.5732\n",
      "Epoch 46/100\n",
      "938/938 [==============================] - 2s 2ms/step - loss: 1.1347 - acc: 0.5793\n",
      "Epoch 47/100\n",
      "938/938 [==============================] - 3s 3ms/step - loss: 1.1079 - acc: 0.5785\n",
      "Epoch 48/100\n",
      "938/938 [==============================] - 3s 3ms/step - loss: 1.1327 - acc: 0.5780\n",
      "Epoch 49/100\n",
      "938/938 [==============================] - 3s 3ms/step - loss: 1.1152 - acc: 0.5770\n",
      "Epoch 50/100\n",
      "938/938 [==============================] - 3s 3ms/step - loss: 1.1238 - acc: 0.5726\n",
      "Epoch 51/100\n",
      "938/938 [==============================] - 3s 3ms/step - loss: 1.1753 - acc: 0.5599\n",
      "Epoch 52/100\n",
      "938/938 [==============================] - 3s 3ms/step - loss: 1.1790 - acc: 0.5677\n",
      "Epoch 53/100\n",
      "938/938 [==============================] - 3s 3ms/step - loss: 1.1314 - acc: 0.5756\n",
      "Epoch 54/100\n",
      "938/938 [==============================] - 3s 3ms/step - loss: 1.1877 - acc: 0.5656\n",
      "Epoch 55/100\n",
      "938/938 [==============================] - 3s 4ms/step - loss: 1.1088 - acc: 0.5771\n",
      "Epoch 56/100\n",
      "938/938 [==============================] - 3s 3ms/step - loss: 1.1299 - acc: 0.5701\n",
      "Epoch 57/100\n",
      "938/938 [==============================] - 3s 3ms/step - loss: 1.1236 - acc: 0.5791\n",
      "Epoch 58/100\n",
      "938/938 [==============================] - 3s 3ms/step - loss: 1.0943 - acc: 0.5786\n",
      "Epoch 59/100\n",
      "938/938 [==============================] - 3s 3ms/step - loss: 1.0972 - acc: 0.5828\n",
      "Epoch 60/100\n",
      "938/938 [==============================] - 3s 3ms/step - loss: 1.1001 - acc: 0.5827\n",
      "Epoch 61/100\n",
      "938/938 [==============================] - 3s 3ms/step - loss: 1.1824 - acc: 0.5625\n",
      "Epoch 62/100\n",
      "938/938 [==============================] - 3s 3ms/step - loss: 1.2035 - acc: 0.5454\n",
      "Epoch 63/100\n",
      "938/938 [==============================] - 3s 3ms/step - loss: 1.1439 - acc: 0.5612\n",
      "Epoch 64/100\n",
      "938/938 [==============================] - 3s 3ms/step - loss: 1.2046 - acc: 0.5534\n",
      "Epoch 65/100\n",
      "938/938 [==============================] - 3s 3ms/step - loss: 1.1341 - acc: 0.5701\n",
      "Epoch 66/100\n",
      "938/938 [==============================] - 3s 3ms/step - loss: 1.1657 - acc: 0.5651\n",
      "Epoch 67/100\n",
      "938/938 [==============================] - 3s 3ms/step - loss: 1.1529 - acc: 0.5684\n",
      "Epoch 68/100\n",
      "938/938 [==============================] - 3s 3ms/step - loss: 1.1341 - acc: 0.5716\n",
      "Epoch 69/100\n",
      "938/938 [==============================] - 3s 3ms/step - loss: 1.1323 - acc: 0.5728\n",
      "Epoch 70/100\n",
      "938/938 [==============================] - 3s 3ms/step - loss: 1.1695 - acc: 0.5661\n",
      "Epoch 71/100\n",
      "938/938 [==============================] - 3s 3ms/step - loss: 1.1857 - acc: 0.5552\n",
      "Epoch 72/100\n",
      "938/938 [==============================] - 3s 3ms/step - loss: 1.1538 - acc: 0.5692\n",
      "Epoch 73/100\n",
      "938/938 [==============================] - 3s 3ms/step - loss: 1.1230 - acc: 0.5774\n",
      "Epoch 74/100\n",
      "938/938 [==============================] - 3s 3ms/step - loss: 1.1201 - acc: 0.5824\n",
      "Epoch 75/100\n",
      "938/938 [==============================] - 3s 3ms/step - loss: 1.1256 - acc: 0.5718\n",
      "Epoch 76/100\n",
      "938/938 [==============================] - 3s 3ms/step - loss: 1.1242 - acc: 0.5786\n",
      "Epoch 77/100\n",
      "938/938 [==============================] - 3s 3ms/step - loss: 1.0844 - acc: 0.5821\n",
      "Epoch 78/100\n",
      "938/938 [==============================] - 3s 3ms/step - loss: 1.0552 - acc: 0.5926\n",
      "Epoch 79/100\n",
      "938/938 [==============================] - 3s 3ms/step - loss: 1.1020 - acc: 0.5895\n",
      "Epoch 80/100\n",
      "938/938 [==============================] - 3s 3ms/step - loss: 1.0907 - acc: 0.5914\n",
      "Epoch 81/100\n",
      "938/938 [==============================] - 3s 3ms/step - loss: 1.0410 - acc: 0.5936\n",
      "Epoch 82/100\n",
      "938/938 [==============================] - 3s 3ms/step - loss: 1.0987 - acc: 0.5922\n",
      "Epoch 83/100\n",
      "938/938 [==============================] - 3s 3ms/step - loss: 1.1651 - acc: 0.5646\n",
      "Epoch 84/100\n",
      "938/938 [==============================] - 3s 3ms/step - loss: 1.1229 - acc: 0.5788\n",
      "Epoch 85/100\n"
     ]
    },
    {
     "name": "stdout",
     "output_type": "stream",
     "text": [
      "938/938 [==============================] - 3s 3ms/step - loss: 1.0868 - acc: 0.5837\n",
      "Epoch 86/100\n",
      "938/938 [==============================] - 3s 3ms/step - loss: 1.0328 - acc: 0.5946\n",
      "Epoch 87/100\n",
      "938/938 [==============================] - 3s 3ms/step - loss: 1.1195 - acc: 0.5766\n",
      "Epoch 88/100\n",
      "938/938 [==============================] - 3s 3ms/step - loss: 1.0891 - acc: 0.5851\n",
      "Epoch 89/100\n",
      "938/938 [==============================] - 3s 3ms/step - loss: 1.0793 - acc: 0.5886\n",
      "Epoch 90/100\n",
      "938/938 [==============================] - 3s 3ms/step - loss: 1.0324 - acc: 0.5969\n",
      "Epoch 91/100\n",
      "938/938 [==============================] - 3s 3ms/step - loss: 1.0158 - acc: 0.5976\n",
      "Epoch 92/100\n",
      "938/938 [==============================] - 3s 3ms/step - loss: 1.0555 - acc: 0.5944\n",
      "Epoch 93/100\n",
      "938/938 [==============================] - 3s 3ms/step - loss: 1.0249 - acc: 0.5993\n",
      "Epoch 94/100\n",
      "938/938 [==============================] - 3s 3ms/step - loss: 1.0333 - acc: 0.5982\n",
      "Epoch 95/100\n",
      "938/938 [==============================] - 3s 3ms/step - loss: 1.0383 - acc: 0.5947\n",
      "Epoch 96/100\n",
      "938/938 [==============================] - 3s 3ms/step - loss: 1.0744 - acc: 0.5922\n",
      "Epoch 97/100\n",
      "938/938 [==============================] - 3s 3ms/step - loss: 1.0806 - acc: 0.5885\n",
      "Epoch 98/100\n",
      "938/938 [==============================] - 3s 3ms/step - loss: 1.0156 - acc: 0.5995\n",
      "Epoch 99/100\n",
      "938/938 [==============================] - 3s 3ms/step - loss: 1.0691 - acc: 0.5903\n",
      "Epoch 100/100\n",
      "938/938 [==============================] - 3s 3ms/step - loss: 1.0509 - acc: 0.5871\n"
     ]
    },
    {
     "data": {
      "text/plain": [
       "<keras.callbacks.History at 0x23a5c55e340>"
      ]
     },
     "execution_count": 29,
     "metadata": {},
     "output_type": "execute_result"
    }
   ],
   "source": [
    "model.fit(x=X_train, y=y_train, batch_size=64, epochs=100)  #938 iteration/no.of batches per epoch"
   ]
  },
  {
   "cell_type": "markdown",
   "metadata": {},
   "source": [
    "###### Normalization--can also be done before training."
   ]
  },
  {
   "cell_type": "markdown",
   "metadata": {},
   "source": [
    "during normalization -- values are shift between -1 to +1.\n",
    "++\n",
    "There is no changes in the physical meaning, only change in the mathematical data."
   ]
  },
  {
   "cell_type": "markdown",
   "metadata": {},
   "source": [
    "Now, also implememnt **Validation_split=0.2**"
   ]
  },
  {
   "cell_type": "code",
   "execution_count": 30,
   "metadata": {},
   "outputs": [],
   "source": [
    "model1 = Sequential()\n",
    "model1.add(Flatten(input_shape=X_train[0].shape)) # model.add(Flatten(input_size=784))\n",
    "#model.add(Dense(512, activation= relu))\n",
    "model1.add(Dense(128, activation= relu))\n",
    "model1.add(Dense(10, activation=softmax))"
   ]
  },
  {
   "cell_type": "code",
   "execution_count": 31,
   "metadata": {},
   "outputs": [
    {
     "name": "stdout",
     "output_type": "stream",
     "text": [
      "Model: \"sequential_1\"\n",
      "_________________________________________________________________\n",
      " Layer (type)                Output Shape              Param #   \n",
      "=================================================================\n",
      " flatten_1 (Flatten)         (None, 784)               0         \n",
      "                                                                 \n",
      " dense_2 (Dense)             (None, 128)               100480    \n",
      "                                                                 \n",
      " dense_3 (Dense)             (None, 10)                1290      \n",
      "                                                                 \n",
      "=================================================================\n",
      "Total params: 101,770\n",
      "Trainable params: 101,770\n",
      "Non-trainable params: 0\n",
      "_________________________________________________________________\n"
     ]
    }
   ],
   "source": [
    "model1.summary()"
   ]
  },
  {
   "cell_type": "code",
   "execution_count": 32,
   "metadata": {},
   "outputs": [],
   "source": [
    "model1.compile(optimizer=SGD(learning_rate=0.01), loss=categorical_crossentropy, metrics=[\"acc\"])"
   ]
  },
  {
   "cell_type": "code",
   "execution_count": 34,
   "metadata": {},
   "outputs": [
    {
     "name": "stdout",
     "output_type": "stream",
     "text": [
      "Epoch 1/100\n",
      "750/750 [==============================] - 3s 4ms/step - loss: 0.9101 - acc: 0.6227 - val_loss: 1.3945 - val_acc: 0.6244\n",
      "Epoch 2/100\n",
      "750/750 [==============================] - 3s 4ms/step - loss: 0.8967 - acc: 0.6257 - val_loss: 1.4032 - val_acc: 0.6137\n",
      "Epoch 3/100\n",
      "750/750 [==============================] - 3s 4ms/step - loss: 0.8908 - acc: 0.6262 - val_loss: 1.3063 - val_acc: 0.6031\n",
      "Epoch 4/100\n",
      "750/750 [==============================] - 3s 4ms/step - loss: 0.9289 - acc: 0.6142 - val_loss: 1.2408 - val_acc: 0.6177\n",
      "Epoch 5/100\n",
      "750/750 [==============================] - 3s 4ms/step - loss: 0.8996 - acc: 0.6232 - val_loss: 1.2919 - val_acc: 0.6215\n",
      "Epoch 6/100\n",
      "750/750 [==============================] - 3s 4ms/step - loss: 0.9967 - acc: 0.5976 - val_loss: 1.2923 - val_acc: 0.6037\n",
      "Epoch 7/100\n",
      "750/750 [==============================] - 3s 4ms/step - loss: 0.9725 - acc: 0.6047 - val_loss: 1.3793 - val_acc: 0.6041\n",
      "Epoch 8/100\n",
      "750/750 [==============================] - 3s 4ms/step - loss: 0.9647 - acc: 0.6094 - val_loss: 1.2788 - val_acc: 0.6119\n",
      "Epoch 9/100\n",
      "750/750 [==============================] - 3s 4ms/step - loss: 0.9652 - acc: 0.6066 - val_loss: 1.2978 - val_acc: 0.5997\n",
      "Epoch 10/100\n",
      "750/750 [==============================] - 3s 4ms/step - loss: 0.9414 - acc: 0.6133 - val_loss: 1.2412 - val_acc: 0.6096\n",
      "Epoch 11/100\n",
      "750/750 [==============================] - 3s 4ms/step - loss: 0.9232 - acc: 0.6199 - val_loss: 1.3857 - val_acc: 0.6208\n",
      "Epoch 12/100\n",
      "750/750 [==============================] - 3s 4ms/step - loss: 0.9102 - acc: 0.6247 - val_loss: 1.1404 - val_acc: 0.6172\n",
      "Epoch 13/100\n",
      "750/750 [==============================] - 3s 4ms/step - loss: 0.8940 - acc: 0.6254 - val_loss: 2.0576 - val_acc: 0.6126\n",
      "Epoch 14/100\n",
      "750/750 [==============================] - 3s 4ms/step - loss: 0.9353 - acc: 0.6128 - val_loss: 1.2814 - val_acc: 0.5936\n",
      "Epoch 15/100\n",
      "750/750 [==============================] - 3s 4ms/step - loss: 1.0538 - acc: 0.5800 - val_loss: 1.2665 - val_acc: 0.5738\n",
      "Epoch 16/100\n",
      "750/750 [==============================] - 3s 4ms/step - loss: 0.9753 - acc: 0.5942 - val_loss: 1.3045 - val_acc: 0.5887\n",
      "Epoch 17/100\n",
      "750/750 [==============================] - 3s 4ms/step - loss: 0.9678 - acc: 0.5982 - val_loss: 1.3586 - val_acc: 0.6018\n",
      "Epoch 18/100\n",
      "750/750 [==============================] - 3s 4ms/step - loss: 0.9678 - acc: 0.6040 - val_loss: 1.3030 - val_acc: 0.5704\n",
      "Epoch 19/100\n",
      "750/750 [==============================] - 3s 4ms/step - loss: 0.9635 - acc: 0.6025 - val_loss: 1.4061 - val_acc: 0.6143\n",
      "Epoch 20/100\n",
      "750/750 [==============================] - 3s 4ms/step - loss: 0.9152 - acc: 0.6176 - val_loss: 1.3837 - val_acc: 0.5962\n",
      "Epoch 21/100\n",
      "750/750 [==============================] - 3s 4ms/step - loss: 0.9590 - acc: 0.6043 - val_loss: 1.2062 - val_acc: 0.6013\n",
      "Epoch 22/100\n",
      "750/750 [==============================] - 3s 4ms/step - loss: 0.9166 - acc: 0.6154 - val_loss: 1.1771 - val_acc: 0.5971\n",
      "Epoch 23/100\n",
      "750/750 [==============================] - 3s 4ms/step - loss: 0.9100 - acc: 0.6164 - val_loss: 1.2330 - val_acc: 0.6026\n",
      "Epoch 24/100\n",
      "750/750 [==============================] - 3s 4ms/step - loss: 0.9665 - acc: 0.6102 - val_loss: 1.3183 - val_acc: 0.5727\n",
      "Epoch 25/100\n",
      "750/750 [==============================] - 3s 4ms/step - loss: 0.9832 - acc: 0.5934 - val_loss: 1.3269 - val_acc: 0.5912\n",
      "Epoch 26/100\n",
      "750/750 [==============================] - 3s 4ms/step - loss: 0.9547 - acc: 0.6028 - val_loss: 1.5460 - val_acc: 0.6102\n",
      "Epoch 27/100\n",
      "750/750 [==============================] - 3s 4ms/step - loss: 0.9392 - acc: 0.6093 - val_loss: 1.3732 - val_acc: 0.6093\n",
      "Epoch 28/100\n",
      "750/750 [==============================] - 3s 4ms/step - loss: 0.9322 - acc: 0.6193 - val_loss: 1.4438 - val_acc: 0.6220\n",
      "Epoch 29/100\n",
      "750/750 [==============================] - 3s 4ms/step - loss: 0.9503 - acc: 0.6147 - val_loss: 1.3510 - val_acc: 0.6128\n",
      "Epoch 30/100\n",
      "750/750 [==============================] - 3s 4ms/step - loss: 0.9675 - acc: 0.6092 - val_loss: 1.3611 - val_acc: 0.6056\n",
      "Epoch 31/100\n",
      "750/750 [==============================] - 3s 4ms/step - loss: 0.9409 - acc: 0.6154 - val_loss: 1.3656 - val_acc: 0.6073\n",
      "Epoch 32/100\n",
      "750/750 [==============================] - 3s 4ms/step - loss: 0.9220 - acc: 0.6160 - val_loss: 1.3910 - val_acc: 0.5988\n",
      "Epoch 33/100\n",
      "750/750 [==============================] - 3s 4ms/step - loss: 0.9631 - acc: 0.6119 - val_loss: 1.3886 - val_acc: 0.6066\n",
      "Epoch 34/100\n",
      "750/750 [==============================] - 3s 4ms/step - loss: 0.9440 - acc: 0.6144 - val_loss: 1.4050 - val_acc: 0.5897\n",
      "Epoch 35/100\n",
      "750/750 [==============================] - 3s 4ms/step - loss: 0.9419 - acc: 0.6133 - val_loss: 1.6021 - val_acc: 0.6135\n",
      "Epoch 36/100\n",
      "750/750 [==============================] - 3s 4ms/step - loss: 0.9358 - acc: 0.6134 - val_loss: 1.3355 - val_acc: 0.6065\n",
      "Epoch 37/100\n",
      "750/750 [==============================] - 3s 4ms/step - loss: 0.9336 - acc: 0.6183 - val_loss: 1.2776 - val_acc: 0.6071\n",
      "Epoch 38/100\n",
      "750/750 [==============================] - 3s 4ms/step - loss: 0.9162 - acc: 0.6231 - val_loss: 1.3190 - val_acc: 0.6100\n",
      "Epoch 39/100\n",
      "750/750 [==============================] - 3s 4ms/step - loss: 0.8986 - acc: 0.6242 - val_loss: 1.3723 - val_acc: 0.6088\n",
      "Epoch 40/100\n",
      "750/750 [==============================] - 3s 4ms/step - loss: 0.8811 - acc: 0.6279 - val_loss: 1.3901 - val_acc: 0.6239\n",
      "Epoch 41/100\n",
      "750/750 [==============================] - 3s 4ms/step - loss: 0.8838 - acc: 0.6260 - val_loss: 1.4598 - val_acc: 0.6072\n",
      "Epoch 42/100\n",
      "750/750 [==============================] - 3s 4ms/step - loss: 0.8940 - acc: 0.6256 - val_loss: 1.3895 - val_acc: 0.6205\n",
      "Epoch 43/100\n",
      "750/750 [==============================] - 3s 4ms/step - loss: 0.9044 - acc: 0.6291 - val_loss: 1.4663 - val_acc: 0.5458\n",
      "Epoch 44/100\n",
      "750/750 [==============================] - 3s 4ms/step - loss: 1.0571 - acc: 0.5577 - val_loss: 1.3711 - val_acc: 0.5432\n",
      "Epoch 45/100\n",
      "750/750 [==============================] - 3s 4ms/step - loss: 1.0405 - acc: 0.5558 - val_loss: 1.4696 - val_acc: 0.5347\n",
      "Epoch 46/100\n",
      "750/750 [==============================] - 3s 4ms/step - loss: 1.0282 - acc: 0.5568 - val_loss: 1.4137 - val_acc: 0.5470\n",
      "Epoch 47/100\n",
      "750/750 [==============================] - 3s 4ms/step - loss: 1.0461 - acc: 0.5531 - val_loss: 1.3944 - val_acc: 0.5482\n",
      "Epoch 48/100\n",
      "750/750 [==============================] - 3s 4ms/step - loss: 1.0427 - acc: 0.5534 - val_loss: 1.3951 - val_acc: 0.5439\n",
      "Epoch 49/100\n",
      "750/750 [==============================] - 3s 4ms/step - loss: 1.0300 - acc: 0.5575 - val_loss: 1.3530 - val_acc: 0.5462\n",
      "Epoch 50/100\n",
      "750/750 [==============================] - 3s 4ms/step - loss: 1.0408 - acc: 0.5555 - val_loss: 1.5156 - val_acc: 0.5578\n",
      "Epoch 51/100\n",
      "750/750 [==============================] - 3s 4ms/step - loss: 1.0543 - acc: 0.5555 - val_loss: 1.5412 - val_acc: 0.5565\n",
      "Epoch 52/100\n",
      "750/750 [==============================] - 3s 4ms/step - loss: 1.0604 - acc: 0.5543 - val_loss: 1.5472 - val_acc: 0.5474\n",
      "Epoch 53/100\n",
      "750/750 [==============================] - 3s 4ms/step - loss: 1.0667 - acc: 0.5520 - val_loss: 1.5421 - val_acc: 0.5552\n",
      "Epoch 54/100\n",
      "750/750 [==============================] - 3s 4ms/step - loss: 1.0400 - acc: 0.5570 - val_loss: 1.5159 - val_acc: 0.5533\n",
      "Epoch 55/100\n",
      "750/750 [==============================] - 3s 4ms/step - loss: 1.0326 - acc: 0.5583 - val_loss: 1.5136 - val_acc: 0.5552\n",
      "Epoch 56/100\n",
      "750/750 [==============================] - 3s 4ms/step - loss: 1.0234 - acc: 0.5595 - val_loss: 1.3908 - val_acc: 0.5530\n",
      "Epoch 57/100\n",
      "750/750 [==============================] - 3s 4ms/step - loss: 1.0212 - acc: 0.5602 - val_loss: 1.3977 - val_acc: 0.5564\n",
      "Epoch 58/100\n",
      "750/750 [==============================] - 3s 4ms/step - loss: 1.0170 - acc: 0.5609 - val_loss: 1.4347 - val_acc: 0.5589\n",
      "Epoch 59/100\n",
      "750/750 [==============================] - 4s 5ms/step - loss: 1.0078 - acc: 0.5634 - val_loss: 1.4011 - val_acc: 0.5539\n",
      "Epoch 60/100\n",
      "750/750 [==============================] - 4s 5ms/step - loss: 1.0341 - acc: 0.5596 - val_loss: 1.4022 - val_acc: 0.5552\n",
      "Epoch 61/100\n",
      "750/750 [==============================] - 3s 4ms/step - loss: 1.0147 - acc: 0.5631 - val_loss: 1.4749 - val_acc: 0.5573\n",
      "Epoch 62/100\n"
     ]
    },
    {
     "name": "stdout",
     "output_type": "stream",
     "text": [
      "750/750 [==============================] - 3s 4ms/step - loss: 1.0452 - acc: 0.5570 - val_loss: 1.4459 - val_acc: 0.5471\n",
      "Epoch 63/100\n",
      "750/750 [==============================] - 3s 4ms/step - loss: 1.0283 - acc: 0.5583 - val_loss: 1.4376 - val_acc: 0.5570\n",
      "Epoch 64/100\n",
      "750/750 [==============================] - 3s 4ms/step - loss: 1.0383 - acc: 0.5585 - val_loss: 1.5011 - val_acc: 0.5532\n",
      "Epoch 65/100\n",
      "750/750 [==============================] - 3s 4ms/step - loss: 1.0391 - acc: 0.5578 - val_loss: 1.4431 - val_acc: 0.5527\n",
      "Epoch 66/100\n",
      "750/750 [==============================] - 3s 4ms/step - loss: 1.0305 - acc: 0.5598 - val_loss: 1.4932 - val_acc: 0.5557\n",
      "Epoch 67/100\n",
      "750/750 [==============================] - 3s 4ms/step - loss: 1.0159 - acc: 0.5622 - val_loss: 1.4838 - val_acc: 0.5577\n",
      "Epoch 68/100\n",
      "750/750 [==============================] - 3s 4ms/step - loss: 1.0142 - acc: 0.5634 - val_loss: 1.5727 - val_acc: 0.5536\n",
      "Epoch 69/100\n",
      "750/750 [==============================] - 3s 4ms/step - loss: 1.0117 - acc: 0.5630 - val_loss: 1.4116 - val_acc: 0.5575\n",
      "Epoch 70/100\n",
      "750/750 [==============================] - 3s 4ms/step - loss: 1.0405 - acc: 0.5589 - val_loss: 1.5021 - val_acc: 0.5556\n",
      "Epoch 71/100\n",
      "750/750 [==============================] - 3s 4ms/step - loss: 1.0758 - acc: 0.5520 - val_loss: 1.4791 - val_acc: 0.5442\n",
      "Epoch 72/100\n",
      "750/750 [==============================] - 3s 4ms/step - loss: 1.0477 - acc: 0.5538 - val_loss: 1.5325 - val_acc: 0.5532\n",
      "Epoch 73/100\n",
      "750/750 [==============================] - 3s 4ms/step - loss: 1.0372 - acc: 0.5551 - val_loss: 1.4965 - val_acc: 0.5525\n",
      "Epoch 74/100\n",
      "750/750 [==============================] - 3s 4ms/step - loss: 1.0608 - acc: 0.5553 - val_loss: 1.5852 - val_acc: 0.5425\n",
      "Epoch 75/100\n",
      "750/750 [==============================] - 3s 4ms/step - loss: 1.1405 - acc: 0.5382 - val_loss: 1.6613 - val_acc: 0.5210\n",
      "Epoch 76/100\n",
      "750/750 [==============================] - 3s 4ms/step - loss: 1.1309 - acc: 0.5413 - val_loss: 1.6248 - val_acc: 0.5430\n",
      "Epoch 77/100\n",
      "750/750 [==============================] - 3s 4ms/step - loss: 1.0948 - acc: 0.5442 - val_loss: 1.5335 - val_acc: 0.5523\n",
      "Epoch 78/100\n",
      "750/750 [==============================] - 3s 4ms/step - loss: 1.0776 - acc: 0.5490 - val_loss: 1.7016 - val_acc: 0.5529\n",
      "Epoch 79/100\n",
      "750/750 [==============================] - 3s 4ms/step - loss: 1.0655 - acc: 0.5531 - val_loss: 1.6264 - val_acc: 0.5558\n",
      "Epoch 80/100\n",
      "750/750 [==============================] - 3s 4ms/step - loss: 1.0481 - acc: 0.5572 - val_loss: 1.4433 - val_acc: 0.5443\n",
      "Epoch 81/100\n",
      "750/750 [==============================] - 3s 4ms/step - loss: 1.0471 - acc: 0.5533 - val_loss: 1.3709 - val_acc: 0.5504\n",
      "Epoch 82/100\n",
      "750/750 [==============================] - 3s 4ms/step - loss: 1.0562 - acc: 0.5551 - val_loss: 1.4540 - val_acc: 0.5497\n",
      "Epoch 83/100\n",
      "750/750 [==============================] - 3s 4ms/step - loss: 1.1437 - acc: 0.5361 - val_loss: 1.9333 - val_acc: 0.5319\n",
      "Epoch 84/100\n",
      "750/750 [==============================] - 3s 4ms/step - loss: 1.1980 - acc: 0.5140 - val_loss: 1.9504 - val_acc: 0.5405\n",
      "Epoch 85/100\n",
      "750/750 [==============================] - 3s 4ms/step - loss: 1.1173 - acc: 0.5313 - val_loss: 1.4995 - val_acc: 0.4963\n",
      "Epoch 86/100\n",
      "750/750 [==============================] - 3s 4ms/step - loss: 1.1824 - acc: 0.5143 - val_loss: 1.5647 - val_acc: 0.5059\n",
      "Epoch 87/100\n",
      "750/750 [==============================] - 3s 3ms/step - loss: 1.2414 - acc: 0.4919 - val_loss: 1.6534 - val_acc: 0.4727\n",
      "Epoch 88/100\n",
      "750/750 [==============================] - 3s 4ms/step - loss: 1.2174 - acc: 0.4855 - val_loss: 1.5888 - val_acc: 0.4953\n",
      "Epoch 89/100\n",
      "750/750 [==============================] - 3s 4ms/step - loss: 1.1347 - acc: 0.5235 - val_loss: 1.6759 - val_acc: 0.5335\n",
      "Epoch 90/100\n",
      "750/750 [==============================] - 3s 4ms/step - loss: 1.1273 - acc: 0.5283 - val_loss: 1.4193 - val_acc: 0.5081\n",
      "Epoch 91/100\n",
      "750/750 [==============================] - 3s 4ms/step - loss: 1.1350 - acc: 0.5289 - val_loss: 1.6808 - val_acc: 0.5222\n",
      "Epoch 92/100\n",
      "750/750 [==============================] - 3s 3ms/step - loss: 1.1378 - acc: 0.5261 - val_loss: 1.4414 - val_acc: 0.5231\n",
      "Epoch 93/100\n",
      "750/750 [==============================] - 3s 4ms/step - loss: 1.1510 - acc: 0.5250 - val_loss: 1.6701 - val_acc: 0.5167\n",
      "Epoch 94/100\n",
      "750/750 [==============================] - 3s 4ms/step - loss: 1.1351 - acc: 0.5309 - val_loss: 1.5897 - val_acc: 0.5218\n",
      "Epoch 95/100\n",
      "750/750 [==============================] - 3s 4ms/step - loss: 1.0897 - acc: 0.5375 - val_loss: 1.7136 - val_acc: 0.5435\n",
      "Epoch 96/100\n",
      "750/750 [==============================] - 3s 4ms/step - loss: 1.0879 - acc: 0.5434 - val_loss: 1.6492 - val_acc: 0.5282\n",
      "Epoch 97/100\n",
      "750/750 [==============================] - 3s 4ms/step - loss: 1.0750 - acc: 0.5458 - val_loss: 1.8120 - val_acc: 0.5469\n",
      "Epoch 98/100\n",
      "750/750 [==============================] - 3s 4ms/step - loss: 1.0798 - acc: 0.5454 - val_loss: 1.7003 - val_acc: 0.5423\n",
      "Epoch 99/100\n",
      "750/750 [==============================] - 3s 4ms/step - loss: 1.0684 - acc: 0.5464 - val_loss: 1.5970 - val_acc: 0.5359\n",
      "Epoch 100/100\n",
      "750/750 [==============================] - 3s 4ms/step - loss: 1.0449 - acc: 0.5516 - val_loss: 1.7090 - val_acc: 0.5491\n"
     ]
    }
   ],
   "source": [
    " model_history = model1.fit(x=X_train, y=y_train, batch_size=64, epochs=100, validation_split=0.2)  "
   ]
  },
  {
   "cell_type": "code",
   "execution_count": 35,
   "metadata": {},
   "outputs": [
    {
     "data": {
      "text/plain": [
       "<keras.callbacks.History at 0x23a5e990a90>"
      ]
     },
     "execution_count": 35,
     "metadata": {},
     "output_type": "execute_result"
    }
   ],
   "source": [
    "model_history"
   ]
  },
  {
   "cell_type": "code",
   "execution_count": 36,
   "metadata": {},
   "outputs": [
    {
     "data": {
      "text/plain": [
       "{'verbose': 1, 'epochs': 100, 'steps': 750}"
      ]
     },
     "execution_count": 36,
     "metadata": {},
     "output_type": "execute_result"
    }
   ],
   "source": [
    "model_history.params"
   ]
  },
  {
   "cell_type": "code",
   "execution_count": 37,
   "metadata": {},
   "outputs": [
    {
     "data": {
      "text/plain": [
       "dict_keys(['loss', 'acc', 'val_loss', 'val_acc'])"
      ]
     },
     "execution_count": 37,
     "metadata": {},
     "output_type": "execute_result"
    }
   ],
   "source": [
    "model_history.history.keys()"
   ]
  },
  {
   "cell_type": "code",
   "execution_count": 38,
   "metadata": {},
   "outputs": [
    {
     "data": {
      "image/png": "[encoded data removed]",
      "text/plain": [
       "<Figure size 864x504 with 1 Axes>"
      ]
     },
     "metadata": {
      "needs_background": "light"
     },
     "output_type": "display_data"
    }
   ],
   "source": [
    "plt.figure(figsize=(12,7))\n",
    "plt.plot(model_history.history.get(\"acc\"), label=\"acc\")\n",
    "plt.plot(model_history.history.get(\"val_acc\"), label=\"val_acc\")\n",
    "plt.legend()\n",
    "plt.show()"
   ]
  },
  {
   "cell_type": "code",
   "execution_count": 39,
   "metadata": {},
   "outputs": [
    {
     "data": {
      "image/png": "[encoded data removed]",
      "text/plain": [
       "<Figure size 864x504 with 1 Axes>"
      ]
     },
     "metadata": {
      "needs_background": "light"
     },
     "output_type": "display_data"
    }
   ],
   "source": [
    "plt.figure(figsize=(12,7))\n",
    "plt.plot(model_history.history.get(\"loss\"), label=\"loss\")\n",
    "plt.plot(model_history.history.get(\"val_loss\"), label=\"val_loss\")\n",
    "plt.legend()\n",
    "plt.show()"
   ]
  },
  {
   "cell_type": "markdown",
   "metadata": {},
   "source": [
    "### Test the model1"
   ]
  },
  {
   "cell_type": "code",
   "execution_count": 40,
   "metadata": {},
   "outputs": [],
   "source": [
    "# Normalize\n",
    "X_test = X_test/255.0\n",
    "y_test = to_categorical(y_test)"
   ]
  },
  {
   "cell_type": "code",
   "execution_count": 41,
   "metadata": {},
   "outputs": [
    {
     "name": "stdout",
     "output_type": "stream",
     "text": [
      "313/313 [==============================] - 1s 3ms/step - loss: 2.6266 - acc: 0.1619\n"
     ]
    },
    {
     "data": {
      "text/plain": [
       "[2.626573085784912, 0.16189999878406525]"
      ]
     },
     "execution_count": 41,
     "metadata": {},
     "output_type": "execute_result"
    }
   ],
   "source": [
    "model1.evaluate(X_test, y_test)"
   ]
  },
  {
   "cell_type": "code",
   "execution_count": 42,
   "metadata": {},
   "outputs": [
    {
     "data": {
      "text/plain": [
       "(10000, 28, 28)"
      ]
     },
     "execution_count": 42,
     "metadata": {},
     "output_type": "execute_result"
    }
   ],
   "source": [
    "X_test.shape"
   ]
  },
  {
   "cell_type": "code",
   "execution_count": 43,
   "metadata": {},
   "outputs": [
    {
     "name": "stdout",
     "output_type": "stream",
     "text": [
      "157/157 [==============================] - 1s 4ms/step - loss: 2.6266 - acc: 0.1619\n"
     ]
    },
    {
     "data": {
      "text/plain": [
       "[2.626572847366333, 0.16189999878406525]"
      ]
     },
     "execution_count": 43,
     "metadata": {},
     "output_type": "execute_result"
    }
   ],
   "source": [
    "model1.evaluate(X_test, y_test, batch_size=64)"
   ]
  },
  {
   "cell_type": "code",
   "execution_count": 44,
   "metadata": {},
   "outputs": [
    {
     "name": "stdout",
     "output_type": "stream",
     "text": [
      "157/157 [==============================] - 1s 3ms/step - loss: 2.0782 - acc: 0.2742\n"
     ]
    },
    {
     "data": {
      "text/plain": [
       "[2.078235387802124, 0.2741999924182892]"
      ]
     },
     "execution_count": 44,
     "metadata": {},
     "output_type": "execute_result"
    }
   ],
   "source": [
    "model.evaluate(X_test, y_test, batch_size=64)"
   ]
  },
  {
   "cell_type": "markdown",
   "metadata": {},
   "source": [
    "### Prediction"
   ]
  },
  {
   "cell_type": "code",
   "execution_count": 45,
   "metadata": {},
   "outputs": [
    {
     "data": {
      "text/plain": [
       "<matplotlib.image.AxesImage at 0x23a57ed8370>"
      ]
     },
     "execution_count": 45,
     "metadata": {},
     "output_type": "execute_result"
    },
    {
     "data": {
      "image/png": "[encoded data removed]",
      "text/plain": [
       "<Figure size 432x288 with 1 Axes>"
      ]
     },
     "metadata": {
      "needs_background": "light"
     },
     "output_type": "display_data"
    }
   ],
   "source": [
    "test_image = X_test[7]\n",
    "plt.imshow(test_image)"
   ]
  },
  {
   "cell_type": "code",
   "execution_count": 46,
   "metadata": {},
   "outputs": [
    {
     "data": {
      "text/plain": [
       "(28, 28)"
      ]
     },
     "execution_count": 46,
     "metadata": {},
     "output_type": "execute_result"
    }
   ],
   "source": [
    "test_image.shape"
   ]
  },
  {
   "cell_type": "code",
   "execution_count": 47,
   "metadata": {},
   "outputs": [
    {
     "data": {
      "text/plain": [
       "numpy.ndarray"
      ]
     },
     "execution_count": 47,
     "metadata": {},
     "output_type": "execute_result"
    }
   ],
   "source": [
    "type(test_image)"
   ]
  },
  {
   "cell_type": "code",
   "execution_count": 48,
   "metadata": {},
   "outputs": [
    {
     "data": {
      "text/plain": [
       "(None, 28, 28)"
      ]
     },
     "execution_count": 48,
     "metadata": {},
     "output_type": "execute_result"
    }
   ],
   "source": [
    "model1.input_shape"
   ]
  },
  {
   "cell_type": "code",
   "execution_count": 49,
   "metadata": {},
   "outputs": [],
   "source": [
    "# if 1 image is used for prediction, technically size should be (1,28,28)"
   ]
  },
  {
   "cell_type": "code",
   "execution_count": 50,
   "metadata": {},
   "outputs": [],
   "source": [
    "test_image_= test_image.reshape(1,28,28)"
   ]
  },
  {
   "cell_type": "code",
   "execution_count": 51,
   "metadata": {},
   "outputs": [
    {
     "data": {
      "text/plain": [
       "(1, 28, 28)"
      ]
     },
     "execution_count": 51,
     "metadata": {},
     "output_type": "execute_result"
    }
   ],
   "source": [
    "test_image_.shape"
   ]
  },
  {
   "cell_type": "code",
   "execution_count": 52,
   "metadata": {},
   "outputs": [
    {
     "data": {
      "text/plain": [
       "array([[0.00758072, 0.00450988, 0.177757  , 0.18201888, 0.06368081, 0.02381312, 0.17901076, 0.00849058, 0.17348196, 0.17965625]], dtype=float32)"
      ]
     },
     "execution_count": 52,
     "metadata": {},
     "output_type": "execute_result"
    }
   ],
   "source": [
    "model1.predict(test_image_)   # There are 10 probabilities for each image"
   ]
  },
  {
   "cell_type": "code",
   "execution_count": 53,
   "metadata": {},
   "outputs": [
    {
     "data": {
      "text/plain": [
       "3"
      ]
     },
     "execution_count": 53,
     "metadata": {},
     "output_type": "execute_result"
    }
   ],
   "source": [
    "model1.predict(test_image_).argmax()"
   ]
  },
  {
   "cell_type": "code",
   "execution_count": 54,
   "metadata": {},
   "outputs": [],
   "source": [
    "# if 1 image is used for prediction, technically size should be (1,28,28)"
   ]
  },
  {
   "cell_type": "code",
   "execution_count": 55,
   "metadata": {},
   "outputs": [
    {
     "data": {
      "text/plain": [
       "(1, 28, 28)"
      ]
     },
     "execution_count": 55,
     "metadata": {},
     "output_type": "execute_result"
    }
   ],
   "source": [
    "np.expand_dims(test_image, axis=0).shape"
   ]
  },
  {
   "cell_type": "code",
   "execution_count": 56,
   "metadata": {},
   "outputs": [],
   "source": [
    "test_image2 = np.expand_dims(test_image, axis=0)"
   ]
  },
  {
   "cell_type": "code",
   "execution_count": 57,
   "metadata": {},
   "outputs": [
    {
     "data": {
      "text/plain": [
       "3"
      ]
     },
     "execution_count": 57,
     "metadata": {},
     "output_type": "execute_result"
    }
   ],
   "source": [
    "result = model1.predict(test_image2)\n",
    "np.argmax(result)"
   ]
  },
  {
   "cell_type": "code",
   "execution_count": 58,
   "metadata": {},
   "outputs": [],
   "source": [
    "y_pred = model1.predict(X_test)"
   ]
  },
  {
   "cell_type": "code",
   "execution_count": 59,
   "metadata": {},
   "outputs": [
    {
     "data": {
      "text/plain": [
       "(10000, 10)"
      ]
     },
     "execution_count": 59,
     "metadata": {},
     "output_type": "execute_result"
    }
   ],
   "source": [
    "y_pred.shape"
   ]
  },
  {
   "cell_type": "code",
   "execution_count": 60,
   "metadata": {},
   "outputs": [
    {
     "data": {
      "text/plain": [
       "78794"
      ]
     },
     "execution_count": 60,
     "metadata": {},
     "output_type": "execute_result"
    }
   ],
   "source": [
    "y_pred.argmax()"
   ]
  },
  {
   "cell_type": "code",
   "execution_count": 61,
   "metadata": {},
   "outputs": [
    {
     "data": {
      "text/plain": [
       "array([9, 3, 8, 2, 4, 8, 4, 3, 3, 3, 6, 3, 3, 8, 8, 3, 3, 9, 3, 4, 3, 3, 3, 3, 4, 6, 9, 4, 2, 8, ..., 3, 3, 4, 3, 4, 3, 3, 4, 8, 9, 3, 3, 3, 6, 8, 3, 3, 4, 3, 3, 3, 3, 3, 6, 8, 3, 3, 4, 3, 3], dtype=int64)"
      ]
     },
     "execution_count": 61,
     "metadata": {},
     "output_type": "execute_result"
    }
   ],
   "source": [
    "np.argmax(y_pred, axis=1)"
   ]
  },
  {
   "cell_type": "code",
   "execution_count": 62,
   "metadata": {},
   "outputs": [
    {
     "data": {
      "text/plain": [
       "(10000,)"
      ]
     },
     "execution_count": 62,
     "metadata": {},
     "output_type": "execute_result"
    }
   ],
   "source": [
    "np.argmax(y_pred, axis=1).shape"
   ]
  },
  {
   "cell_type": "code",
   "execution_count": 63,
   "metadata": {},
   "outputs": [
    {
     "data": {
      "text/plain": [
       "(10000, 10)"
      ]
     },
     "execution_count": 63,
     "metadata": {},
     "output_type": "execute_result"
    }
   ],
   "source": [
    "y_test.shape"
   ]
  },
  {
   "cell_type": "code",
   "execution_count": 64,
   "metadata": {},
   "outputs": [
    {
     "data": {
      "text/plain": [
       "array([7, 2, 1, 0, 4, 1, 4, 9, 5, 9, 0, 6, 9, 0, 1, 5, 9, 7, 3, 4, 9, 6, 6, 5, 4, 0, 7, 4, 0, 1, ..., 5, 2, 4, 9, 4, 3, 6, 4, 1, 7, 2, 6, 5, 0, 1, 2, 3, 4, 5, 6, 7, 8, 9, 0, 1, 2, 3, 4, 5, 6], dtype=int64)"
      ]
     },
     "execution_count": 64,
     "metadata": {},
     "output_type": "execute_result"
    }
   ],
   "source": [
    "np.argmax(y_test, axis=1)"
   ]
  },
  {
   "cell_type": "code",
   "execution_count": 65,
   "metadata": {},
   "outputs": [
    {
     "data": {
      "text/plain": [
       "(1619, 8381)"
      ]
     },
     "execution_count": 65,
     "metadata": {},
     "output_type": "execute_result"
    }
   ],
   "source": [
    "np.sum(np.argmax(y_pred, axis=1)==np.argmax(y_test, axis=1)), np.sum(np.argmax(y_pred, axis=1)!=np.argmax(y_test, axis=1))"
   ]
  },
  {
   "cell_type": "code",
   "execution_count": 66,
   "metadata": {},
   "outputs": [
    {
     "data": {
      "text/plain": [
       "<matplotlib.image.AxesImage at 0x23a57ff69d0>"
      ]
     },
     "execution_count": 66,
     "metadata": {},
     "output_type": "execute_result"
    },
    {
     "data": {
      "image/png": "[encoded data removed]",
      "text/plain": [
       "<Figure size 432x288 with 1 Axes>"
      ]
     },
     "metadata": {
      "needs_background": "light"
     },
     "output_type": "display_data"
    }
   ],
   "source": [
    "plt.imshow(X_test[0])"
   ]
  },
  {
   "cell_type": "code",
   "execution_count": 67,
   "metadata": {},
   "outputs": [
    {
     "data": {
      "text/plain": [
       "(array([   0,    1,    2,    3,    5,    7,    8,    9,   10,   11,   12,   13,   14,   15,   16,   17,   20,   21,   22,   23,   25,   26,   28,   29,   31,   33,   34,   35,   36,   37, ..., 9961, 9962, 9963, 9964, 9966, 9967, 9968, 9969, 9970, 9971, 9973, 9976, 9978, 9979, 9980, 9981, 9982, 9983, 9984, 9985, 9988, 9989, 9990, 9991, 9992, 9993, 9994, 9995, 9998, 9999], dtype=int64),)"
      ]
     },
     "execution_count": 67,
     "metadata": {},
     "output_type": "execute_result"
    }
   ],
   "source": [
    "result=np.argmax(y_pred, axis=1)==np.argmax(y_test, axis=1)\n",
    "np.where(result==False)"
   ]
  },
  {
   "cell_type": "code",
   "execution_count": 68,
   "metadata": {},
   "outputs": [
    {
     "data": {
      "text/plain": [
       "<matplotlib.image.AxesImage at 0x23a5fc64220>"
      ]
     },
     "execution_count": 68,
     "metadata": {},
     "output_type": "execute_result"
    },
    {
     "data": {
      "image/png": "[encoded data removed]",
      "text/plain": [
       "<Figure size 432x288 with 1 Axes>"
      ]
     },
     "metadata": {
      "needs_background": "light"
     },
     "output_type": "display_data"
    }
   ],
   "source": [
    "num=247\n",
    "plt.imshow(X_test[num])"
   ]
  },
  {
   "cell_type": "code",
   "execution_count": 69,
   "metadata": {},
   "outputs": [],
   "source": [
    "from sklearn.metrics import confusion_matrix"
   ]
  },
  {
   "cell_type": "code",
   "execution_count": 70,
   "metadata": {},
   "outputs": [
    {
     "data": {
      "text/plain": [
       "array([[   0,    0,  192,  125,    1,    0,  576,    0,   55,   31],\n",
       "       [   0,    0,   21,   27,    0,    0,    4,    0, 1083,    0],\n",
       "       [   0,    0,    1, 1024,    0,    0,    1,    0,    1,    5],\n",
       "       [   0,    0,    0, 1006,    0,    0,    1,    0,    0,    3],\n",
       "       [   0,    0,    0,  293,  601,    0,   85,    0,    2,    1],\n",
       "       [   0,    0,    0,  884,    0,    0,    4,    0,    1,    3],\n",
       "       [   0,    0,    0,  949,    1,    0,    4,    0,    3,    1],\n",
       "       [   0,    0,    3,  318,    0,    0,    0,    0,    0,  707],\n",
       "       [   0,    0,    2,  963,    1,    0,    3,    0,    3,    2],\n",
       "       [   0,    0,    2, 1000,    0,    0,    2,    0,    1,    4]], dtype=int64)"
      ]
     },
     "execution_count": 70,
     "metadata": {},
     "output_type": "execute_result"
    }
   ],
   "source": [
    "confusion_matrix(y_true = np.argmax(y_test, axis=1), y_pred = np.argmax(y_pred, axis=1))"
   ]
  },
  {
   "cell_type": "markdown",
   "metadata": {},
   "source": [
    "##### Another dataset - fashion mnis dataset."
   ]
  },
  {
   "cell_type": "code",
   "execution_count": 71,
   "metadata": {},
   "outputs": [],
   "source": [
    "from tensorflow.keras.datasets import fashion_mnist"
   ]
  },
  {
   "cell_type": "code",
   "execution_count": null,
   "metadata": {},
   "outputs": [],
   "source": []
  },
  {
   "cell_type": "markdown",
   "metadata": {},
   "source": [
    "### END"
   ]
  },
  {
   "cell_type": "code",
   "execution_count": null,
   "metadata": {},
   "outputs": [],
   "source": []
  }
 ],
 "metadata": {
  "kernelspec": {
   "display_name": "Python 3",
   "language": "python",
   "name": "python3"
  },
  "language_info": {
   "codemirror_mode": {
    "name": "ipython",
    "version": 3
   },
   "file_extension": ".py",
   "mimetype": "text/x-python",
   "name": "python",
   "nbconvert_exporter": "python",
   "pygments_lexer": "ipython3",
   "version": "3.8.3"
  }
 },
 "nbformat": 4,
 "nbformat_minor": 4
}

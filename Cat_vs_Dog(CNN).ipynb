{
  "nbformat": 4,
  "nbformat_minor": 0,
  "metadata": {
    "colab": {
      "name": "Cat_vs_Dog(CNN).ipynb",
      "provenance": [],
      "collapsed_sections": [],
      "authorship_tag": "ABX9TyORZSK6k/11+jYE7+Crju3k",
      "include_colab_link": true
    },
    "kernelspec": {
      "name": "python3",
      "display_name": "Python 3"
    },
    "language_info": {
      "name": "python"
    },
    "accelerator": "GPU"
  },
  "cells": [
    {
      "cell_type": "markdown",
      "metadata": {
        "id": "view-in-github",
        "colab_type": "text"
      },
      "source": [
        "<a href=\"https://colab.research.google.com/github/Shayankr/Deep_Learning_Project/blob/master/Cat_vs_Dog(CNN).ipynb\" target=\"_parent\"><img src=\"https://colab.research.google.com/assets/colab-badge.svg\" alt=\"Open In Colab\"/></a>"
      ]
    },
    {
      "cell_type": "markdown",
      "source": [
        "# Cat vs. Dog Classifictaion using CNN"
      ],
      "metadata": {
        "id": "Mk2aaMyHH-4B"
      }
    },
    {
      "cell_type": "code",
      "execution_count": 1,
      "metadata": {
        "id": "SvVM-CAcHOQc"
      },
      "outputs": [],
      "source": [
        "# CNN -- Convolutional Neural Network\n",
        "# 1.FInding Features\n",
        "# 2. Regular Classification"
      ]
    },
    {
      "cell_type": "code",
      "source": [
        "# Q.) HOw to find the features of image (OR ROI)?\n",
        "# 1. Convolution\n",
        "# 2. Pooling\n",
        "\n",
        "# you will never Flatten your image in CNN\n",
        "# directly send 2D image or 3D image"
      ],
      "metadata": {
        "id": "gKIpXIgPIKml"
      },
      "execution_count": 2,
      "outputs": []
    },
    {
      "cell_type": "code",
      "source": [
        "# Formula for output image = (Input - Filter + stride) / (stride)\n",
        "# or,\n",
        "# [ (input image shape  -  Filter shape) / (stride) ] + 1\n",
        "#\n",
        "# but, if the division is not resulting an integer ,, add a minimum value of padding.\n",
        "# then formula becomes,\n",
        "# output image shape = (Input - Filter + Stride + Padding)/(stride)"
      ],
      "metadata": {
        "id": "y8tOiXVyIRIc"
      },
      "execution_count": 3,
      "outputs": []
    },
    {
      "cell_type": "code",
      "source": [
        "# Depth - no.of filters used"
      ],
      "metadata": {
        "id": "LQL6Y6pXIZei"
      },
      "execution_count": 4,
      "outputs": []
    },
    {
      "cell_type": "code",
      "source": [
        "# Generally, filter size is bigger than strides...so that it becomes overlapped."
      ],
      "metadata": {
        "id": "AEdggfnCIdDm"
      },
      "execution_count": 5,
      "outputs": []
    },
    {
      "cell_type": "code",
      "source": [
        "!ls root/.kaggle"
      ],
      "metadata": {
        "colab": {
          "base_uri": "https://localhost:8080/"
        },
        "id": "siYerM1gIe1r",
        "outputId": "b5ba7da3-0a35-4216-cc51-beea84b4a42b"
      },
      "execution_count": 6,
      "outputs": [
        {
          "output_type": "stream",
          "name": "stdout",
          "text": [
            "ls: cannot access 'root/.kaggle': No such file or directory\n"
          ]
        }
      ]
    },
    {
      "cell_type": "code",
      "source": [
        "! mkdir -p /root/.kaggle\n",
        "!cp kaggle.json /root/.kaggle/"
      ],
      "metadata": {
        "id": "UPl6F3w8IkAP"
      },
      "execution_count": 7,
      "outputs": []
    },
    {
      "cell_type": "code",
      "source": [
        "import kaggle"
      ],
      "metadata": {
        "colab": {
          "base_uri": "https://localhost:8080/"
        },
        "id": "MZDaG0jTI4Jv",
        "outputId": "ae99ebbb-7830-49db-e569-323c6e663848"
      },
      "execution_count": 8,
      "outputs": [
        {
          "output_type": "stream",
          "name": "stdout",
          "text": [
            "Warning: Your Kaggle API key is readable by other users on this system! To fix this, you can run 'chmod 600 /root/.kaggle/kaggle.json'\n"
          ]
        }
      ]
    },
    {
      "cell_type": "code",
      "source": [
        "! chmod 600 /root/.kaggle/kaggle.json"
      ],
      "metadata": {
        "id": "Sv4DODydJEJF"
      },
      "execution_count": 9,
      "outputs": []
    },
    {
      "cell_type": "code",
      "source": [
        "!ls /root/.kaggle/"
      ],
      "metadata": {
        "colab": {
          "base_uri": "https://localhost:8080/"
        },
        "id": "6zpWMSxpJhDO",
        "outputId": "13d23289-6e41-46b2-e8af-d3daf688190a"
      },
      "execution_count": 10,
      "outputs": [
        {
          "output_type": "stream",
          "name": "stdout",
          "text": [
            "kaggle.json\n"
          ]
        }
      ]
    },
    {
      "cell_type": "code",
      "source": [
        "import os\n",
        "os.listdir(\"/root/.kaggle/\")"
      ],
      "metadata": {
        "colab": {
          "base_uri": "https://localhost:8080/"
        },
        "id": "sAIxLupcJs1n",
        "outputId": "5c5d4c8e-52f6-4aa3-d3a3-eb6e2e68d9ea"
      },
      "execution_count": 11,
      "outputs": [
        {
          "output_type": "execute_result",
          "data": {
            "text/plain": [
              "['kaggle.json']"
            ]
          },
          "metadata": {},
          "execution_count": 11
        }
      ]
    },
    {
      "cell_type": "markdown",
      "source": [
        "**How to save models??**"
      ],
      "metadata": {
        "id": "cLD6MdFNJ9gw"
      }
    },
    {
      "cell_type": "code",
      "source": [
        "# save your content on Google Drive\n",
        "\n",
        "#with open(\"SampleText.txt\",'w') as _file:\n",
        "#  _file.write(\"This is a sample file made on GoogleColab\")\n",
        "\n",
        "#!cp SampleText.text ./drive/MyDrive/\n",
        "\n",
        "# its saved on Google Drive"
      ],
      "metadata": {
        "id": "kQkadIZTJ0Il"
      },
      "execution_count": 12,
      "outputs": []
    },
    {
      "cell_type": "markdown",
      "source": [
        "## CNN"
      ],
      "metadata": {
        "id": "ldtFlpAWKfRH"
      }
    },
    {
      "cell_type": "code",
      "source": [
        "# Depth -- for multiple features you required multiple filters. Thus,  depth of image increases\n",
        "# shape(height x width x 3(channels))    ----12 filter applied ----> sahpe(height x weight x 12(no.of filters used))\n",
        "#\n",
        "# output = (input - filter + strides + padding(if required)) / (strides)\n",
        "#\n",
        "# introducing non-lineraity => ReLU (mostly used), other are also used based on the situation, features\n",
        "#\n",
        "# Pooling --. max pooling, sum pooling, average pooling (these 3 are most popular)\n",
        "# Poling __> selecting best features\n",
        "#\n",
        "#SOTA -> State of The Art\n",
        "# GOAT -> Greatest of all time\n",
        "#"
      ],
      "metadata": {
        "id": "RGzEZubLKdLR"
      },
      "execution_count": 13,
      "outputs": []
    },
    {
      "cell_type": "code",
      "source": [
        "# chunk --> conv + ReLU + Pooling"
      ],
      "metadata": {
        "id": "Wwa7-7txK3Uk"
      },
      "execution_count": 14,
      "outputs": []
    },
    {
      "cell_type": "markdown",
      "source": [
        "**import dataset from kaggle.**"
      ],
      "metadata": {
        "id": "OJ5B47pCLNN3"
      }
    },
    {
      "cell_type": "code",
      "source": [
        "#import dataset from kaggle\n",
        "\n",
        "! kaggle competitions download -c dogs-vs-cats"
      ],
      "metadata": {
        "colab": {
          "base_uri": "https://localhost:8080/"
        },
        "id": "6n1jGUeIK_n9",
        "outputId": "2a337e53-ef11-444e-b92b-cde3b7531ace"
      },
      "execution_count": 15,
      "outputs": [
        {
          "output_type": "stream",
          "name": "stdout",
          "text": [
            "Downloading dogs-vs-cats.zip to /content\n",
            "100% 810M/812M [00:03<00:00, 201MB/s]\n",
            "100% 812M/812M [00:03<00:00, 230MB/s]\n"
          ]
        }
      ]
    },
    {
      "cell_type": "code",
      "source": [
        "#import libraries\n",
        "\n",
        "import pandas as pd\n",
        "import numpy as np\n",
        "import matplotlib.pyplot as plt\n",
        "import seaborn as sns\n",
        "%matplotlib inline"
      ],
      "metadata": {
        "id": "K2Npe8xkLTw6"
      },
      "execution_count": 16,
      "outputs": []
    },
    {
      "cell_type": "code",
      "source": [
        "import tensorflow as tf\n",
        "from tensorflow import keras"
      ],
      "metadata": {
        "id": "STYzkPjhLmh0"
      },
      "execution_count": 17,
      "outputs": []
    },
    {
      "cell_type": "code",
      "source": [
        "!unzip dogs-vs-cats.zip"
      ],
      "metadata": {
        "colab": {
          "base_uri": "https://localhost:8080/"
        },
        "id": "hicaG08gLqC5",
        "outputId": "449110c2-543a-47a8-db4f-d2746dcf97e0"
      },
      "execution_count": 18,
      "outputs": [
        {
          "output_type": "stream",
          "name": "stdout",
          "text": [
            "Archive:  dogs-vs-cats.zip\n",
            "  inflating: sampleSubmission.csv    \n",
            "  inflating: test1.zip               \n",
            "  inflating: train.zip               \n"
          ]
        }
      ]
    },
    {
      "cell_type": "code",
      "source": [
        "# test1.zip is for kaggle"
      ],
      "metadata": {
        "id": "eZdonriRLxwh"
      },
      "execution_count": 19,
      "outputs": []
    },
    {
      "cell_type": "code",
      "source": [
        "# here, I will consider only the train.zip\n"
      ],
      "metadata": {
        "id": "U4fa14pxL5SW"
      },
      "execution_count": 20,
      "outputs": []
    },
    {
      "cell_type": "code",
      "source": [
        "!unzip -q train.zip"
      ],
      "metadata": {
        "id": "VIUPw7SmL-Bn"
      },
      "execution_count": 21,
      "outputs": []
    },
    {
      "cell_type": "code",
      "source": [
        "import os\n",
        "\n",
        "os.mkdir(\"train1\")\n",
        "os.mkdir(\"train1/cat\")\n",
        "os.mkdir(\"train1/dog\")"
      ],
      "metadata": {
        "id": "iI7K20ePMCJa"
      },
      "execution_count": 22,
      "outputs": []
    },
    {
      "cell_type": "code",
      "source": [
        "src_folder=\"train/\"\n",
        "cat_folder = \"train1/cat/\"\n",
        "dog_folder = \"train1/dog/\""
      ],
      "metadata": {
        "id": "kgple4GSMk0Q"
      },
      "execution_count": 23,
      "outputs": []
    },
    {
      "cell_type": "code",
      "source": [
        "# import shutil"
      ],
      "metadata": {
        "id": "7K9crDNtMxjw"
      },
      "execution_count": 24,
      "outputs": []
    },
    {
      "cell_type": "code",
      "source": [
        "import shutil as sh"
      ],
      "metadata": {
        "id": "kSAeOJjNM1Ed"
      },
      "execution_count": 25,
      "outputs": []
    },
    {
      "cell_type": "code",
      "source": [
        "for image_name in os.listdir(src_folder):\n",
        "  if \"cat\" in image_name:\n",
        "    sh.copy(src_folder+image_name, cat_folder)\n",
        "  if \"dog\" in image_name:\n",
        "    sh.copy(src_folder+image_name, dog_folder)\n",
        "\n"
      ],
      "metadata": {
        "id": "r8tqHD44M3M3"
      },
      "execution_count": 26,
      "outputs": []
    },
    {
      "cell_type": "code",
      "source": [
        "# import image-data-generator\n",
        "\n",
        "from tensorflow.keras.preprocessing.image import ImageDataGenerator"
      ],
      "metadata": {
        "id": "dZINJIv4NkuZ"
      },
      "execution_count": 27,
      "outputs": []
    },
    {
      "cell_type": "code",
      "source": [
        "from tensorflow.keras.preprocessing.image  import load_img, array_to_img, img_to_array"
      ],
      "metadata": {
        "id": "7qj3biI-Ov9u"
      },
      "execution_count": 28,
      "outputs": []
    },
    {
      "cell_type": "code",
      "source": [
        "# Create an instance for ImageDataGenerator\n",
        "idg = ImageDataGenerator(rotation_range=45, zoom_range=0.2,\n",
        "                         horizontal_flip= True, rescale=1/255.0,\n",
        "                         validation_split=0.2)"
      ],
      "metadata": {
        "id": "twaOic0dO9rF"
      },
      "execution_count": 29,
      "outputs": []
    },
    {
      "cell_type": "markdown",
      "source": [
        "**subset name: train;expected \"training\" or \"validation\"**"
      ],
      "metadata": {
        "id": "Fhe6lob3QqFR"
      }
    },
    {
      "cell_type": "code",
      "source": [
        "train_generator = idg.flow_from_directory(directory=\"train1\", target_size=(150,150),\n",
        "                                          batch_size=64, subset=\"training\")"
      ],
      "metadata": {
        "colab": {
          "base_uri": "https://localhost:8080/"
        },
        "id": "Ra22B4SiPtOx",
        "outputId": "a0a9e425-951e-4b59-abdf-84b4f5d6dc5f"
      },
      "execution_count": 30,
      "outputs": [
        {
          "output_type": "stream",
          "name": "stdout",
          "text": [
            "Found 20000 images belonging to 2 classes.\n"
          ]
        }
      ]
    },
    {
      "cell_type": "code",
      "source": [
        "val_generator = idg.flow_from_directory(directory=\"train1\", target_size=(150,150),\n",
        "                                        batch_size=64, subset=\"validation\")"
      ],
      "metadata": {
        "colab": {
          "base_uri": "https://localhost:8080/"
        },
        "id": "0n9KhUJJQBsj",
        "outputId": "d2364026-4455-4bb3-fe61-42e718f56999"
      },
      "execution_count": 31,
      "outputs": [
        {
          "output_type": "stream",
          "name": "stdout",
          "text": [
            "Found 5000 images belonging to 2 classes.\n"
          ]
        }
      ]
    },
    {
      "cell_type": "markdown",
      "source": [
        "**import all necessary packages**"
      ],
      "metadata": {
        "id": "_Kc_dWnNSVlg"
      }
    },
    {
      "cell_type": "code",
      "source": [
        "from tensorflow.keras.models import Sequential"
      ],
      "metadata": {
        "id": "e4bFHtezQe-D"
      },
      "execution_count": 32,
      "outputs": []
    },
    {
      "cell_type": "code",
      "source": [
        "from keras.layers import  Flatten, Dense, Conv2D, MaxPooling2D  #in CNN no need of Flatten layer is before the fully connected layer"
      ],
      "metadata": {
        "id": "VOOgCWsKQ4yU"
      },
      "execution_count": 33,
      "outputs": []
    },
    {
      "cell_type": "code",
      "source": [
        "from keras.activations import relu, softmax"
      ],
      "metadata": {
        "id": "uvpYaQsHRlyY"
      },
      "execution_count": 34,
      "outputs": []
    },
    {
      "cell_type": "code",
      "source": [
        "from keras.losses import categorical_crossentropy"
      ],
      "metadata": {
        "id": "TnYYGdkhR0mz"
      },
      "execution_count": 35,
      "outputs": []
    },
    {
      "cell_type": "code",
      "source": [
        "from tensorflow.keras.optimizers import SGD"
      ],
      "metadata": {
        "id": "DqLSQQxmR6mf"
      },
      "execution_count": 36,
      "outputs": []
    },
    {
      "cell_type": "code",
      "source": [
        ""
      ],
      "metadata": {
        "id": "acDVQuNNSBwB"
      },
      "execution_count": 36,
      "outputs": []
    },
    {
      "cell_type": "markdown",
      "source": [
        "**Build a CNN structure**"
      ],
      "metadata": {
        "id": "2xnLiN6sSgBN"
      }
    },
    {
      "cell_type": "code",
      "source": [
        "from keras import activations\n",
        "model = Sequential()\n",
        "\n",
        "#1st chunk\n",
        "model.add(Conv2D(input_shape=(150,150,3),kernel_size=(3,3), filters=32, strides=(1,1), padding=\"valid\",\n",
        "                 activation=relu))\n",
        "# (150-3+1)/1 =(148, 148, 32)\n",
        "model.add(MaxPooling2D(pool_size=(2,2), strides=(2,2),padding=\"valid\" ))\n",
        "#(74,74,32)\n",
        "\n",
        "#2nd chunk\n",
        "model.add(Conv2D(kernel_size=(3,3), filters=64, strides=(1,1), padding=\"valid\", \n",
        "                 activation=relu))\n",
        "#(74-3+1)/1 = (72,72,64)\n",
        "model.add(MaxPooling2D(pool_size=(2,2), strides=(2,2), padding=\"valid\"))\n",
        "#(36,36,64)\n",
        "\n",
        "\n",
        "#Now, Flatten the layer \n",
        "model.add(Flatten())\n",
        "#36*36*64\n",
        "\n",
        "#add dense layer\n",
        "model.add(Dense(512, activation=relu, ))\n",
        "model.add(Dense(64, activation=relu))\n",
        "\n",
        "# add last output layer\n",
        "model.add(Dense(2, activation=softmax))  #gives 2 outputs\n",
        "\n",
        "# see model summary\n",
        "model.summary()"
      ],
      "metadata": {
        "colab": {
          "base_uri": "https://localhost:8080/"
        },
        "id": "0DeduUoSScwx",
        "outputId": "0a453762-9a79-484a-9961-1cd021a41f50"
      },
      "execution_count": 37,
      "outputs": [
        {
          "output_type": "stream",
          "name": "stdout",
          "text": [
            "Model: \"sequential\"\n",
            "_________________________________________________________________\n",
            " Layer (type)                Output Shape              Param #   \n",
            "=================================================================\n",
            " conv2d (Conv2D)             (None, 148, 148, 32)      896       \n",
            "                                                                 \n",
            " max_pooling2d (MaxPooling2D  (None, 74, 74, 32)       0         \n",
            " )                                                               \n",
            "                                                                 \n",
            " conv2d_1 (Conv2D)           (None, 72, 72, 64)        18496     \n",
            "                                                                 \n",
            " max_pooling2d_1 (MaxPooling  (None, 36, 36, 64)       0         \n",
            " 2D)                                                             \n",
            "                                                                 \n",
            " flatten (Flatten)           (None, 82944)             0         \n",
            "                                                                 \n",
            " dense (Dense)               (None, 512)               42467840  \n",
            "                                                                 \n",
            " dense_1 (Dense)             (None, 64)                32832     \n",
            "                                                                 \n",
            " dense_2 (Dense)             (None, 2)                 130       \n",
            "                                                                 \n",
            "=================================================================\n",
            "Total params: 42,520,194\n",
            "Trainable params: 42,520,194\n",
            "Non-trainable params: 0\n",
            "_________________________________________________________________\n"
          ]
        }
      ]
    },
    {
      "cell_type": "code",
      "source": [
        "17*17*128"
      ],
      "metadata": {
        "colab": {
          "base_uri": "https://localhost:8080/"
        },
        "id": "GarTYSpzXXWr",
        "outputId": "c67a50e3-e464-4762-8d0a-0289937cf9de"
      },
      "execution_count": 38,
      "outputs": [
        {
          "output_type": "execute_result",
          "data": {
            "text/plain": [
              "36992"
            ]
          },
          "metadata": {},
          "execution_count": 38
        }
      ]
    },
    {
      "cell_type": "code",
      "source": [
        "36*36*64, 150*150*3"
      ],
      "metadata": {
        "colab": {
          "base_uri": "https://localhost:8080/"
        },
        "id": "bv6Uw5m7XYkG",
        "outputId": "209746f5-da9e-4a10-9386-04318c740b9c"
      },
      "execution_count": 39,
      "outputs": [
        {
          "output_type": "execute_result",
          "data": {
            "text/plain": [
              "(82944, 67500)"
            ]
          },
          "metadata": {},
          "execution_count": 39
        }
      ]
    },
    {
      "cell_type": "code",
      "source": [
        "model.compile(optimizer=SGD(learning_rate=0.01, ), metrics=[\"acc\"], loss=categorical_crossentropy)"
      ],
      "metadata": {
        "id": "KD-U3P0VXauO"
      },
      "execution_count": 40,
      "outputs": []
    },
    {
      "cell_type": "code",
      "source": [
        "model.fit(train_generator, epochs=20, validation_data=val_generator)  # Check GPU Enabled or not?"
      ],
      "metadata": {
        "colab": {
          "base_uri": "https://localhost:8080/"
        },
        "id": "V40G2ULaZFIu",
        "outputId": "e47bf6f7-822a-44e0-a4f4-52345e804a74"
      },
      "execution_count": 41,
      "outputs": [
        {
          "output_type": "stream",
          "name": "stdout",
          "text": [
            "Epoch 1/20\n",
            "313/313 [==============================] - 216s 658ms/step - loss: 0.6808 - acc: 0.5602 - val_loss: 0.6700 - val_acc: 0.5882\n",
            "Epoch 2/20\n",
            "313/313 [==============================] - 204s 654ms/step - loss: 0.6613 - acc: 0.5972 - val_loss: 0.6461 - val_acc: 0.6278\n",
            "Epoch 3/20\n",
            "313/313 [==============================] - 205s 655ms/step - loss: 0.6477 - acc: 0.6197 - val_loss: 0.6397 - val_acc: 0.6188\n",
            "Epoch 4/20\n",
            "313/313 [==============================] - 205s 655ms/step - loss: 0.6361 - acc: 0.6330 - val_loss: 0.6234 - val_acc: 0.6432\n",
            "Epoch 5/20\n",
            "313/313 [==============================] - 204s 652ms/step - loss: 0.6213 - acc: 0.6474 - val_loss: 0.6109 - val_acc: 0.6618\n",
            "Epoch 6/20\n",
            "313/313 [==============================] - 204s 652ms/step - loss: 0.6094 - acc: 0.6622 - val_loss: 0.5982 - val_acc: 0.6750\n",
            "Epoch 7/20\n",
            "313/313 [==============================] - 204s 652ms/step - loss: 0.5966 - acc: 0.6773 - val_loss: 0.6014 - val_acc: 0.6674\n",
            "Epoch 8/20\n",
            "313/313 [==============================] - 200s 641ms/step - loss: 0.5838 - acc: 0.6908 - val_loss: 0.5679 - val_acc: 0.7038\n",
            "Epoch 9/20\n",
            "313/313 [==============================] - 203s 649ms/step - loss: 0.5727 - acc: 0.7013 - val_loss: 0.5650 - val_acc: 0.7110\n",
            "Epoch 10/20\n",
            "313/313 [==============================] - 202s 645ms/step - loss: 0.5619 - acc: 0.7087 - val_loss: 0.5493 - val_acc: 0.7202\n",
            "Epoch 11/20\n",
            "313/313 [==============================] - 203s 648ms/step - loss: 0.5528 - acc: 0.7174 - val_loss: 0.5380 - val_acc: 0.7292\n",
            "Epoch 12/20\n",
            "313/313 [==============================] - 203s 650ms/step - loss: 0.5404 - acc: 0.7245 - val_loss: 0.5331 - val_acc: 0.7396\n",
            "Epoch 13/20\n",
            "313/313 [==============================] - 203s 648ms/step - loss: 0.5330 - acc: 0.7332 - val_loss: 0.5251 - val_acc: 0.7404\n",
            "Epoch 14/20\n",
            "313/313 [==============================] - 201s 641ms/step - loss: 0.5276 - acc: 0.7367 - val_loss: 0.5316 - val_acc: 0.7364\n",
            "Epoch 15/20\n",
            "313/313 [==============================] - 201s 644ms/step - loss: 0.5190 - acc: 0.7430 - val_loss: 0.5145 - val_acc: 0.7532\n",
            "Epoch 16/20\n",
            "313/313 [==============================] - 200s 638ms/step - loss: 0.5101 - acc: 0.7480 - val_loss: 0.5037 - val_acc: 0.7500\n",
            "Epoch 17/20\n",
            "313/313 [==============================] - 200s 638ms/step - loss: 0.5070 - acc: 0.7500 - val_loss: 0.4965 - val_acc: 0.7584\n",
            "Epoch 18/20\n",
            "313/313 [==============================] - 203s 647ms/step - loss: 0.5029 - acc: 0.7533 - val_loss: 0.4976 - val_acc: 0.7556\n",
            "Epoch 19/20\n",
            "313/313 [==============================] - 203s 649ms/step - loss: 0.4996 - acc: 0.7563 - val_loss: 0.5068 - val_acc: 0.7446\n",
            "Epoch 20/20\n",
            "313/313 [==============================] - 202s 646ms/step - loss: 0.4879 - acc: 0.7645 - val_loss: 0.4874 - val_acc: 0.7700\n"
          ]
        },
        {
          "output_type": "execute_result",
          "data": {
            "text/plain": [
              "<keras.callbacks.History at 0x7ff72c511e50>"
            ]
          },
          "metadata": {},
          "execution_count": 41
        }
      ]
    },
    {
      "cell_type": "markdown",
      "source": [
        "**BUild another model named \"model1\" with 3 conv layer**."
      ],
      "metadata": {
        "id": "ONmhPAp9rL0g"
      }
    },
    {
      "cell_type": "code",
      "source": [
        "from keras import activations\n",
        "model1 = Sequential()\n",
        "\n",
        "#1st chunk\n",
        "model1.add(Conv2D(input_shape=(150,150,3),kernel_size=(3,3), filters=32, strides=(1,1), padding=\"valid\",\n",
        "                 activation=relu))\n",
        "# (150-3+1)/1 =(148, 148, 32)\n",
        "model1.add(MaxPooling2D(pool_size=(2,2), strides=(2,2),padding=\"valid\" ))\n",
        "#(74,74,32)\n",
        "\n",
        "#2nd chunk\n",
        "model1.add(Conv2D(kernel_size=(3,3), filters=64, strides=(1,1), padding=\"valid\", \n",
        "                 activation=relu))\n",
        "#(74-3+1)/1 = (72,72,64)\n",
        "model1.add(MaxPooling2D(pool_size=(2,2), strides=(2,2), padding=\"valid\"))\n",
        "#(36,36,64)\n",
        "\n",
        "#add 3rd chunk\n",
        "model1.add(Conv2D(kernel_size=(3,3), filters=128, strides=(1,1)))\n",
        "model1.add(MaxPooling2D(pool_size=(2,2)))\n",
        "\n",
        "\n",
        "#Now, Flatten the layer \n",
        "model1.add(Flatten())\n",
        "#36*36*64\n",
        "\n",
        "#add dense layer\n",
        "model1.add(Dense(512, activation=relu, ))\n",
        "model1.add(Dense(64, activation=relu))\n",
        "\n",
        "# add last output layer\n",
        "model1.add(Dense(2, activation=softmax))  #gives 2 outputs\n",
        "\n",
        "# see model summary\n",
        "model1.summary()"
      ],
      "metadata": {
        "colab": {
          "base_uri": "https://localhost:8080/"
        },
        "id": "HHolgUHbqUO1",
        "outputId": "49de1386-0eb1-4662-b68a-11e2a6c97480"
      },
      "execution_count": 43,
      "outputs": [
        {
          "output_type": "stream",
          "name": "stdout",
          "text": [
            "Model: \"sequential_2\"\n",
            "_________________________________________________________________\n",
            " Layer (type)                Output Shape              Param #   \n",
            "=================================================================\n",
            " conv2d_4 (Conv2D)           (None, 148, 148, 32)      896       \n",
            "                                                                 \n",
            " max_pooling2d_4 (MaxPooling  (None, 74, 74, 32)       0         \n",
            " 2D)                                                             \n",
            "                                                                 \n",
            " conv2d_5 (Conv2D)           (None, 72, 72, 64)        18496     \n",
            "                                                                 \n",
            " max_pooling2d_5 (MaxPooling  (None, 36, 36, 64)       0         \n",
            " 2D)                                                             \n",
            "                                                                 \n",
            " conv2d_6 (Conv2D)           (None, 34, 34, 128)       73856     \n",
            "                                                                 \n",
            " max_pooling2d_6 (MaxPooling  (None, 17, 17, 128)      0         \n",
            " 2D)                                                             \n",
            "                                                                 \n",
            " flatten_2 (Flatten)         (None, 36992)             0         \n",
            "                                                                 \n",
            " dense_6 (Dense)             (None, 512)               18940416  \n",
            "                                                                 \n",
            " dense_7 (Dense)             (None, 64)                32832     \n",
            "                                                                 \n",
            " dense_8 (Dense)             (None, 2)                 130       \n",
            "                                                                 \n",
            "=================================================================\n",
            "Total params: 19,066,626\n",
            "Trainable params: 19,066,626\n",
            "Non-trainable params: 0\n",
            "_________________________________________________________________\n"
          ]
        }
      ]
    },
    {
      "cell_type": "code",
      "source": [
        "model1.compile(optimizer=SGD(learning_rate=0.01, ), metrics=[\"acc\"], loss=categorical_crossentropy)"
      ],
      "metadata": {
        "id": "g2GzDr4krW9c"
      },
      "execution_count": 47,
      "outputs": []
    },
    {
      "cell_type": "code",
      "source": [
        "model1_history= model1.fit(train_generator, epochs=20, validation_data=val_generator)"
      ],
      "metadata": {
        "colab": {
          "base_uri": "https://localhost:8080/"
        },
        "id": "-GFo-qxorFDU",
        "outputId": "06fe0fe2-71f5-4d8e-d5db-0b3852c858d1"
      },
      "execution_count": 48,
      "outputs": [
        {
          "output_type": "stream",
          "name": "stdout",
          "text": [
            "Epoch 1/20\n",
            "313/313 [==============================] - 209s 665ms/step - loss: 0.6787 - acc: 0.5695 - val_loss: 0.6611 - val_acc: 0.6276\n",
            "Epoch 2/20\n",
            "313/313 [==============================] - 205s 655ms/step - loss: 0.6562 - acc: 0.6151 - val_loss: 0.6682 - val_acc: 0.5798\n",
            "Epoch 3/20\n",
            "313/313 [==============================] - 204s 653ms/step - loss: 0.6400 - acc: 0.6338 - val_loss: 0.6184 - val_acc: 0.6670\n",
            "Epoch 4/20\n",
            "313/313 [==============================] - 205s 654ms/step - loss: 0.6173 - acc: 0.6577 - val_loss: 0.5974 - val_acc: 0.6818\n",
            "Epoch 5/20\n",
            "313/313 [==============================] - 203s 650ms/step - loss: 0.6011 - acc: 0.6729 - val_loss: 0.5805 - val_acc: 0.6946\n",
            "Epoch 6/20\n",
            "313/313 [==============================] - 205s 654ms/step - loss: 0.5850 - acc: 0.6895 - val_loss: 0.5679 - val_acc: 0.7034\n",
            "Epoch 7/20\n",
            "313/313 [==============================] - 204s 652ms/step - loss: 0.5734 - acc: 0.7012 - val_loss: 0.5534 - val_acc: 0.7166\n",
            "Epoch 8/20\n",
            "313/313 [==============================] - 204s 651ms/step - loss: 0.5561 - acc: 0.7121 - val_loss: 0.5545 - val_acc: 0.7136\n",
            "Epoch 9/20\n",
            "313/313 [==============================] - 204s 653ms/step - loss: 0.5460 - acc: 0.7180 - val_loss: 0.5437 - val_acc: 0.7204\n",
            "Epoch 10/20\n",
            "313/313 [==============================] - 206s 657ms/step - loss: 0.5362 - acc: 0.7265 - val_loss: 0.5200 - val_acc: 0.7404\n",
            "Epoch 11/20\n",
            "313/313 [==============================] - 203s 650ms/step - loss: 0.5233 - acc: 0.7382 - val_loss: 0.5197 - val_acc: 0.7430\n",
            "Epoch 12/20\n",
            "313/313 [==============================] - 206s 657ms/step - loss: 0.5141 - acc: 0.7459 - val_loss: 0.5275 - val_acc: 0.7412\n",
            "Epoch 13/20\n",
            "313/313 [==============================] - 206s 659ms/step - loss: 0.5062 - acc: 0.7512 - val_loss: 0.4953 - val_acc: 0.7590\n",
            "Epoch 14/20\n",
            "313/313 [==============================] - 206s 658ms/step - loss: 0.4967 - acc: 0.7612 - val_loss: 0.4871 - val_acc: 0.7690\n",
            "Epoch 15/20\n",
            "313/313 [==============================] - 204s 652ms/step - loss: 0.4910 - acc: 0.7612 - val_loss: 0.4927 - val_acc: 0.7706\n",
            "Epoch 16/20\n",
            "313/313 [==============================] - 206s 657ms/step - loss: 0.4818 - acc: 0.7669 - val_loss: 0.4874 - val_acc: 0.7680\n",
            "Epoch 17/20\n",
            "313/313 [==============================] - 201s 644ms/step - loss: 0.4785 - acc: 0.7656 - val_loss: 0.4778 - val_acc: 0.7696\n",
            "Epoch 18/20\n",
            "313/313 [==============================] - 202s 646ms/step - loss: 0.4707 - acc: 0.7740 - val_loss: 0.4662 - val_acc: 0.7746\n",
            "Epoch 19/20\n",
            "313/313 [==============================] - 202s 644ms/step - loss: 0.4682 - acc: 0.7745 - val_loss: 0.4575 - val_acc: 0.7830\n",
            "Epoch 20/20\n",
            "313/313 [==============================] - 204s 650ms/step - loss: 0.4580 - acc: 0.7833 - val_loss: 0.4635 - val_acc: 0.7764\n"
          ]
        }
      ]
    },
    {
      "cell_type": "markdown",
      "source": [
        "**Save the model--**"
      ],
      "metadata": {
        "id": "rBOyZl_H8-va"
      }
    },
    {
      "cell_type": "code",
      "source": [
        "model1.save(filepath=\"Cat_vs_Dog_CNN_19032022\")"
      ],
      "metadata": {
        "colab": {
          "base_uri": "https://localhost:8080/"
        },
        "id": "DWmv3narroiQ",
        "outputId": "12b8a363-8768-4378-b726-f53b32b51cd1"
      },
      "execution_count": 49,
      "outputs": [
        {
          "output_type": "stream",
          "name": "stdout",
          "text": [
            "INFO:tensorflow:Assets written to: Cat_vs_Dog_CNN_19032022/assets\n"
          ]
        }
      ]
    },
    {
      "cell_type": "code",
      "source": [
        "#class-mode\n",
        "train_generator.class_mode"
      ],
      "metadata": {
        "colab": {
          "base_uri": "https://localhost:8080/",
          "height": 35
        },
        "id": "dm4gZCxw9SOR",
        "outputId": "0f76a893-6963-434e-ac28-53c3ed048432"
      },
      "execution_count": 50,
      "outputs": [
        {
          "output_type": "execute_result",
          "data": {
            "text/plain": [
              "'categorical'"
            ],
            "application/vnd.google.colaboratory.intrinsic+json": {
              "type": "string"
            }
          },
          "metadata": {},
          "execution_count": 50
        }
      ]
    },
    {
      "cell_type": "code",
      "source": [
        "# check the indices of class\n",
        "train_generator.class_indices"
      ],
      "metadata": {
        "colab": {
          "base_uri": "https://localhost:8080/"
        },
        "id": "fClJECrN9ba6",
        "outputId": "6e2c6123-cc12-4952-8558-3857163f3a57"
      },
      "execution_count": 51,
      "outputs": [
        {
          "output_type": "execute_result",
          "data": {
            "text/plain": [
              "{'cat': 0, 'dog': 1}"
            ]
          },
          "metadata": {},
          "execution_count": 51
        }
      ]
    },
    {
      "cell_type": "code",
      "source": [
        "val_generator.class_indices"
      ],
      "metadata": {
        "colab": {
          "base_uri": "https://localhost:8080/"
        },
        "id": "Cym2dOQM9lts",
        "outputId": "ebd3c362-c52f-4b2a-bc65-cbe0c8c82ed5"
      },
      "execution_count": 52,
      "outputs": [
        {
          "output_type": "execute_result",
          "data": {
            "text/plain": [
              "{'cat': 0, 'dog': 1}"
            ]
          },
          "metadata": {},
          "execution_count": 52
        }
      ]
    },
    {
      "cell_type": "markdown",
      "source": [
        "**{\"cat\" :0  and \"dog\" : 1}**"
      ],
      "metadata": {
        "id": "k3n0Fv7R9s8j"
      }
    },
    {
      "cell_type": "markdown",
      "source": [
        "**Load back the model into this notebook to run the model**"
      ],
      "metadata": {
        "id": "uubsv6ar932N"
      }
    },
    {
      "cell_type": "code",
      "source": [
        "#import load_model\n",
        "\n",
        "from tensorflow.keras.models import load_model"
      ],
      "metadata": {
        "id": "F_AMgjip9qZt"
      },
      "execution_count": 53,
      "outputs": []
    },
    {
      "cell_type": "code",
      "source": [
        "model1_ = load_model(filepath=\"Cat_vs_Dog_CNN_19032022\")"
      ],
      "metadata": {
        "id": "PWaUJ-9--F6O"
      },
      "execution_count": 54,
      "outputs": []
    },
    {
      "cell_type": "code",
      "source": [
        "#view summary of loaded model \"model1_\"\n",
        "model1_.summary()"
      ],
      "metadata": {
        "colab": {
          "base_uri": "https://localhost:8080/"
        },
        "id": "3-Xx-Ti5A2HW",
        "outputId": "6017206e-5861-44ee-8348-a84f66cf9a24"
      },
      "execution_count": 55,
      "outputs": [
        {
          "output_type": "stream",
          "name": "stdout",
          "text": [
            "Model: \"sequential_2\"\n",
            "_________________________________________________________________\n",
            " Layer (type)                Output Shape              Param #   \n",
            "=================================================================\n",
            " conv2d_4 (Conv2D)           (None, 148, 148, 32)      896       \n",
            "                                                                 \n",
            " max_pooling2d_4 (MaxPooling  (None, 74, 74, 32)       0         \n",
            " 2D)                                                             \n",
            "                                                                 \n",
            " conv2d_5 (Conv2D)           (None, 72, 72, 64)        18496     \n",
            "                                                                 \n",
            " max_pooling2d_5 (MaxPooling  (None, 36, 36, 64)       0         \n",
            " 2D)                                                             \n",
            "                                                                 \n",
            " conv2d_6 (Conv2D)           (None, 34, 34, 128)       73856     \n",
            "                                                                 \n",
            " max_pooling2d_6 (MaxPooling  (None, 17, 17, 128)      0         \n",
            " 2D)                                                             \n",
            "                                                                 \n",
            " flatten_2 (Flatten)         (None, 36992)             0         \n",
            "                                                                 \n",
            " dense_6 (Dense)             (None, 512)               18940416  \n",
            "                                                                 \n",
            " dense_7 (Dense)             (None, 64)                32832     \n",
            "                                                                 \n",
            " dense_8 (Dense)             (None, 2)                 130       \n",
            "                                                                 \n",
            "=================================================================\n",
            "Total params: 19,066,626\n",
            "Trainable params: 19,066,626\n",
            "Non-trainable params: 0\n",
            "_________________________________________________________________\n"
          ]
        }
      ]
    },
    {
      "cell_type": "markdown",
      "source": [
        " How to download this model\n",
        "\n",
        "To download --> at first make the zip File"
      ],
      "metadata": {
        "id": "UTJltR5xBv3b"
      }
    },
    {
      "cell_type": "code",
      "source": [
        "# How to download this model\n",
        "\n",
        "# To download --> at first make the zip File"
      ],
      "metadata": {
        "id": "TzLQrcnEA4cs"
      },
      "execution_count": 56,
      "outputs": []
    },
    {
      "cell_type": "code",
      "source": [
        "!zip -r model1.zip Cat_vs_Dog_CNN_19032022"
      ],
      "metadata": {
        "colab": {
          "base_uri": "https://localhost:8080/"
        },
        "id": "EMZMCJIeB6XW",
        "outputId": "4d1c1012-486b-4215-c15a-57d1752ced3a"
      },
      "execution_count": 58,
      "outputs": [
        {
          "output_type": "stream",
          "name": "stdout",
          "text": [
            "  adding: Cat_vs_Dog_CNN_19032022/ (stored 0%)\n",
            "  adding: Cat_vs_Dog_CNN_19032022/saved_model.pb (deflated 89%)\n",
            "  adding: Cat_vs_Dog_CNN_19032022/keras_metadata.pb (deflated 92%)\n",
            "  adding: Cat_vs_Dog_CNN_19032022/variables/ (stored 0%)\n",
            "  adding: Cat_vs_Dog_CNN_19032022/variables/variables.data-00000-of-00001 (deflated 8%)\n",
            "  adding: Cat_vs_Dog_CNN_19032022/variables/variables.index (deflated 57%)\n",
            "  adding: Cat_vs_Dog_CNN_19032022/assets/ (stored 0%)\n"
          ]
        }
      ]
    },
    {
      "cell_type": "code",
      "source": [
        "# RIght Click on the zipped file to download"
      ],
      "metadata": {
        "id": "7oBe3pa0Jg6w"
      },
      "execution_count": 59,
      "outputs": []
    },
    {
      "cell_type": "code",
      "source": [
        "# You can also save it in Google Drive"
      ],
      "metadata": {
        "id": "Mp1D6AlMJ0MR"
      },
      "execution_count": 60,
      "outputs": []
    },
    {
      "cell_type": "markdown",
      "source": [
        "**Check Model history (model1_.history)**"
      ],
      "metadata": {
        "id": "XwoOvjt6Kkek"
      }
    },
    {
      "cell_type": "code",
      "source": [
        "model1_history"
      ],
      "metadata": {
        "colab": {
          "base_uri": "https://localhost:8080/"
        },
        "id": "eaEl9Zq4J1-g",
        "outputId": "b8920810-9af3-427c-da20-e8ec9928dea4"
      },
      "execution_count": 61,
      "outputs": [
        {
          "output_type": "execute_result",
          "data": {
            "text/plain": [
              "<keras.callbacks.History at 0x7ff6b2882590>"
            ]
          },
          "metadata": {},
          "execution_count": 61
        }
      ]
    },
    {
      "cell_type": "code",
      "source": [
        "model1_history.model"
      ],
      "metadata": {
        "colab": {
          "base_uri": "https://localhost:8080/"
        },
        "id": "V1I4RJDqKvsp",
        "outputId": "89743b55-a556-4bb2-a51d-2fdf33bac5cf"
      },
      "execution_count": 62,
      "outputs": [
        {
          "output_type": "execute_result",
          "data": {
            "text/plain": [
              "<keras.engine.sequential.Sequential at 0x7ff6b2a7ef10>"
            ]
          },
          "metadata": {},
          "execution_count": 62
        }
      ]
    },
    {
      "cell_type": "code",
      "source": [
        "model1_history.params"
      ],
      "metadata": {
        "colab": {
          "base_uri": "https://localhost:8080/"
        },
        "id": "wDvJWc4MKzhO",
        "outputId": "bb43a3ec-e452-4e0e-8a9a-5f6734d14fdb"
      },
      "execution_count": 64,
      "outputs": [
        {
          "output_type": "execute_result",
          "data": {
            "text/plain": [
              "{'epochs': 20, 'steps': 313, 'verbose': 1}"
            ]
          },
          "metadata": {},
          "execution_count": 64
        }
      ]
    },
    {
      "cell_type": "code",
      "source": [
        "model1_history.history.keys()"
      ],
      "metadata": {
        "colab": {
          "base_uri": "https://localhost:8080/"
        },
        "id": "_P3OoxW4K2j1",
        "outputId": "a91e5f04-4b01-4d23-c3e6-69cc805bbdcf"
      },
      "execution_count": 65,
      "outputs": [
        {
          "output_type": "execute_result",
          "data": {
            "text/plain": [
              "dict_keys(['loss', 'acc', 'val_loss', 'val_acc'])"
            ]
          },
          "metadata": {},
          "execution_count": 65
        }
      ]
    },
    {
      "cell_type": "code",
      "source": [
        "#plot\n",
        "\n",
        "plt.figure(figsize=(12,7))\n",
        "plt.plot(model1_history.history.get(\"acc\"), label=\"acc\")\n",
        "plt.plot(model1_history.history.get(\"val_acc\"), label=\"val_acc\")\n",
        "plt.legend()\n",
        "plt.show()"
      ],
      "metadata": {
        "colab": {
          "base_uri": "https://localhost:8080/",
          "height": 428
        },
        "id": "iHMgRzC3LGfE",
        "outputId": "aded6cf8-0fc2-494f-b6a5-0423c780e4b1"
      },
      "execution_count": 66,
      "outputs": [
        {
          "output_type": "display_data",
          "data": {
            "text/plain": [
              "<Figure size 864x504 with 1 Axes>"
            ],
            "image/png": "[encoded data removed]"
          },
          "metadata": {
            "needs_background": "light"
          }
        }
      ]
    },
    {
      "cell_type": "code",
      "source": [
        "#plot loss\n",
        "\n",
        "plt.figure(figsize=(12,7))\n",
        "plt.plot(model1_history.history.get(\"loss\"), label=\"loss\")\n",
        "plt.plot(model1_history.history.get(\"val_loss\"), label=\"val_loss\")\n",
        "plt.legend()\n",
        "plt.show()"
      ],
      "metadata": {
        "colab": {
          "base_uri": "https://localhost:8080/",
          "height": 428
        },
        "id": "1a8GYywzLL9Z",
        "outputId": "0bf0acf1-a5fd-470e-e759-e8a94f8b5aa1"
      },
      "execution_count": 67,
      "outputs": [
        {
          "output_type": "display_data",
          "data": {
            "text/plain": [
              "<Figure size 864x504 with 1 Axes>"
            ],
            "image/png": "[encoded data removed]"
          },
          "metadata": {
            "needs_background": "light"
          }
        }
      ]
    },
    {
      "cell_type": "code",
      "source": [
        "#END"
      ],
      "metadata": {
        "id": "7KD5KlaMLVqi"
      },
      "execution_count": 68,
      "outputs": []
    }
  ]
}